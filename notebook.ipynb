{
 "cells": [
  {
   "cell_type": "markdown",
   "metadata": {
    "id": "view-in-github",
    "colab_type": "text"
   },
   "source": [
    "<a href=\"https://colab.research.google.com/github/Adamixa/Data_field_job_analysis/blob/main/notebook.ipynb\" target=\"_parent\"><img src=\"https://colab.research.google.com/assets/colab-badge.svg\" alt=\"Open In Colab\"/></a>"
   ]
  },
  {
   "cell_type": "markdown",
   "metadata": {
    "id": "_L2xXhRgyHwC"
   },
   "source": [
    "# Adam:"
   ]
  },
  {
   "cell_type": "markdown",
   "source": [
    "## Data Loading and Initial Exploration:"
   ],
   "metadata": {
    "collapsed": false,
    "id": "njMvp_63AvBl"
   }
  },
  {
   "cell_type": "markdown",
   "source": [
    "### Importing pandas and loading the data:"
   ],
   "metadata": {
    "collapsed": false,
    "id": "rxNVbXa7AvBn"
   }
  },
  {
   "cell_type": "code",
   "execution_count": 95,
   "metadata": {
    "vscode": {
     "languageId": "plaintext"
    },
    "id": "TovkX1wkAvBo",
    "colab": {
     "base_uri": "https://localhost:8080/",
     "height": 335
    },
    "outputId": "1b391e5e-e881-4c27-cb2e-161508a66309",
    "ExecuteTime": {
     "end_time": "2024-03-28T23:18:18.931562Z",
     "start_time": "2024-03-28T23:18:18.905921Z"
    }
   },
   "outputs": [],
   "source": [
    "import pandas as pd\n",
    "df = pd.read_csv('./jobs_in_data_2024.csv', sep = ',')"
   ]
  },
  {
   "cell_type": "markdown",
   "source": [
    "### Intial data exploaration :"
   ],
   "metadata": {
    "collapsed": false,
    "id": "gj6g8nEMAvBs"
   }
  },
  {
   "cell_type": "code",
   "outputs": [
    {
     "data": {
      "text/plain": "       work_year experience_level employment_type                 job_title  \\\n0           2024      Entry-level       Freelance    Applied Data Scientist   \n1           2024        Executive       Full-time     Business Intelligence   \n2           2024        Executive       Full-time     Business Intelligence   \n3           2024           Senior       Full-time            Data Architect   \n4           2024           Senior       Full-time            Data Architect   \n...          ...              ...             ...                       ...   \n14194       2021           Senior       Full-time           Data Specialist   \n14195       2020           Senior       Full-time            Data Scientist   \n14196       2021        Mid-level       Full-time  Principal Data Scientist   \n14197       2020      Entry-level       Full-time            Data Scientist   \n14198       2020      Entry-level        Contract     Business Data Analyst   \n\n       salary salary_currency  salary_in_usd employee_residence work_setting  \\\n0       30000             USD          30000     United Kingdom       Remote   \n1      230000             USD         230000      United States    In-person   \n2      176900             USD         176900      United States    In-person   \n3      171210             USD         171210             Canada    In-person   \n4       92190             USD          92190             Canada    In-person   \n...       ...             ...            ...                ...          ...   \n14194  165000             USD         165000      United States       Remote   \n14195  412000             USD         412000      United States       Remote   \n14196  151000             USD         151000      United States       Remote   \n14197  105000             USD         105000      United States       Remote   \n14198  100000             USD         100000      United States       Remote   \n\n      company_location company_size                    job_category  \n0       United Kingdom            M       Data Science and Research  \n1        United States            M            BI and Visualization  \n2        United States            M            BI and Visualization  \n3               Canada            M  Data Architecture and Modeling  \n4               Canada            M  Data Architecture and Modeling  \n...                ...          ...                             ...  \n14194    United States            L    Data Management and Strategy  \n14195    United States            L       Data Science and Research  \n14196    United States            L       Data Science and Research  \n14197    United States            S       Data Science and Research  \n14198    United States            L                   Data Analysis  \n\n[14199 rows x 12 columns]",
      "text/html": "<div>\n<style scoped>\n    .dataframe tbody tr th:only-of-type {\n        vertical-align: middle;\n    }\n\n    .dataframe tbody tr th {\n        vertical-align: top;\n    }\n\n    .dataframe thead th {\n        text-align: right;\n    }\n</style>\n<table border=\"1\" class=\"dataframe\">\n  <thead>\n    <tr style=\"text-align: right;\">\n      <th></th>\n      <th>work_year</th>\n      <th>experience_level</th>\n      <th>employment_type</th>\n      <th>job_title</th>\n      <th>salary</th>\n      <th>salary_currency</th>\n      <th>salary_in_usd</th>\n      <th>employee_residence</th>\n      <th>work_setting</th>\n      <th>company_location</th>\n      <th>company_size</th>\n      <th>job_category</th>\n    </tr>\n  </thead>\n  <tbody>\n    <tr>\n      <th>0</th>\n      <td>2024</td>\n      <td>Entry-level</td>\n      <td>Freelance</td>\n      <td>Applied Data Scientist</td>\n      <td>30000</td>\n      <td>USD</td>\n      <td>30000</td>\n      <td>United Kingdom</td>\n      <td>Remote</td>\n      <td>United Kingdom</td>\n      <td>M</td>\n      <td>Data Science and Research</td>\n    </tr>\n    <tr>\n      <th>1</th>\n      <td>2024</td>\n      <td>Executive</td>\n      <td>Full-time</td>\n      <td>Business Intelligence</td>\n      <td>230000</td>\n      <td>USD</td>\n      <td>230000</td>\n      <td>United States</td>\n      <td>In-person</td>\n      <td>United States</td>\n      <td>M</td>\n      <td>BI and Visualization</td>\n    </tr>\n    <tr>\n      <th>2</th>\n      <td>2024</td>\n      <td>Executive</td>\n      <td>Full-time</td>\n      <td>Business Intelligence</td>\n      <td>176900</td>\n      <td>USD</td>\n      <td>176900</td>\n      <td>United States</td>\n      <td>In-person</td>\n      <td>United States</td>\n      <td>M</td>\n      <td>BI and Visualization</td>\n    </tr>\n    <tr>\n      <th>3</th>\n      <td>2024</td>\n      <td>Senior</td>\n      <td>Full-time</td>\n      <td>Data Architect</td>\n      <td>171210</td>\n      <td>USD</td>\n      <td>171210</td>\n      <td>Canada</td>\n      <td>In-person</td>\n      <td>Canada</td>\n      <td>M</td>\n      <td>Data Architecture and Modeling</td>\n    </tr>\n    <tr>\n      <th>4</th>\n      <td>2024</td>\n      <td>Senior</td>\n      <td>Full-time</td>\n      <td>Data Architect</td>\n      <td>92190</td>\n      <td>USD</td>\n      <td>92190</td>\n      <td>Canada</td>\n      <td>In-person</td>\n      <td>Canada</td>\n      <td>M</td>\n      <td>Data Architecture and Modeling</td>\n    </tr>\n    <tr>\n      <th>...</th>\n      <td>...</td>\n      <td>...</td>\n      <td>...</td>\n      <td>...</td>\n      <td>...</td>\n      <td>...</td>\n      <td>...</td>\n      <td>...</td>\n      <td>...</td>\n      <td>...</td>\n      <td>...</td>\n      <td>...</td>\n    </tr>\n    <tr>\n      <th>14194</th>\n      <td>2021</td>\n      <td>Senior</td>\n      <td>Full-time</td>\n      <td>Data Specialist</td>\n      <td>165000</td>\n      <td>USD</td>\n      <td>165000</td>\n      <td>United States</td>\n      <td>Remote</td>\n      <td>United States</td>\n      <td>L</td>\n      <td>Data Management and Strategy</td>\n    </tr>\n    <tr>\n      <th>14195</th>\n      <td>2020</td>\n      <td>Senior</td>\n      <td>Full-time</td>\n      <td>Data Scientist</td>\n      <td>412000</td>\n      <td>USD</td>\n      <td>412000</td>\n      <td>United States</td>\n      <td>Remote</td>\n      <td>United States</td>\n      <td>L</td>\n      <td>Data Science and Research</td>\n    </tr>\n    <tr>\n      <th>14196</th>\n      <td>2021</td>\n      <td>Mid-level</td>\n      <td>Full-time</td>\n      <td>Principal Data Scientist</td>\n      <td>151000</td>\n      <td>USD</td>\n      <td>151000</td>\n      <td>United States</td>\n      <td>Remote</td>\n      <td>United States</td>\n      <td>L</td>\n      <td>Data Science and Research</td>\n    </tr>\n    <tr>\n      <th>14197</th>\n      <td>2020</td>\n      <td>Entry-level</td>\n      <td>Full-time</td>\n      <td>Data Scientist</td>\n      <td>105000</td>\n      <td>USD</td>\n      <td>105000</td>\n      <td>United States</td>\n      <td>Remote</td>\n      <td>United States</td>\n      <td>S</td>\n      <td>Data Science and Research</td>\n    </tr>\n    <tr>\n      <th>14198</th>\n      <td>2020</td>\n      <td>Entry-level</td>\n      <td>Contract</td>\n      <td>Business Data Analyst</td>\n      <td>100000</td>\n      <td>USD</td>\n      <td>100000</td>\n      <td>United States</td>\n      <td>Remote</td>\n      <td>United States</td>\n      <td>L</td>\n      <td>Data Analysis</td>\n    </tr>\n  </tbody>\n</table>\n<p>14199 rows × 12 columns</p>\n</div>"
     },
     "execution_count": 96,
     "metadata": {},
     "output_type": "execute_result"
    }
   ],
   "source": [
    "df"
   ],
   "metadata": {
    "id": "FVyqKlsLAvBt",
    "outputId": "adea310f-2c32-4043-9d7a-d12f8261d666",
    "colab": {
     "base_uri": "https://localhost:8080/",
     "height": 721
    },
    "ExecuteTime": {
     "end_time": "2024-03-28T23:18:19.200487Z",
     "start_time": "2024-03-28T23:18:19.188125Z"
    }
   },
   "execution_count": 96
  },
  {
   "cell_type": "code",
   "outputs": [
    {
     "data": {
      "text/plain": "          work_year         salary  salary_in_usd\ncount  14199.000000   14199.000000    14199.00000\nmean    2023.110501  149057.514262   149472.04944\nstd        0.686929   64932.044143    64379.26016\nmin     2020.000000   14000.000000    15000.00000\n25%     2023.000000  102150.000000   104000.00000\n50%     2023.000000  142000.000000   142000.00000\n75%     2024.000000  185900.000000   185900.00000\nmax     2024.000000  450000.000000   450000.00000",
      "text/html": "<div>\n<style scoped>\n    .dataframe tbody tr th:only-of-type {\n        vertical-align: middle;\n    }\n\n    .dataframe tbody tr th {\n        vertical-align: top;\n    }\n\n    .dataframe thead th {\n        text-align: right;\n    }\n</style>\n<table border=\"1\" class=\"dataframe\">\n  <thead>\n    <tr style=\"text-align: right;\">\n      <th></th>\n      <th>work_year</th>\n      <th>salary</th>\n      <th>salary_in_usd</th>\n    </tr>\n  </thead>\n  <tbody>\n    <tr>\n      <th>count</th>\n      <td>14199.000000</td>\n      <td>14199.000000</td>\n      <td>14199.00000</td>\n    </tr>\n    <tr>\n      <th>mean</th>\n      <td>2023.110501</td>\n      <td>149057.514262</td>\n      <td>149472.04944</td>\n    </tr>\n    <tr>\n      <th>std</th>\n      <td>0.686929</td>\n      <td>64932.044143</td>\n      <td>64379.26016</td>\n    </tr>\n    <tr>\n      <th>min</th>\n      <td>2020.000000</td>\n      <td>14000.000000</td>\n      <td>15000.00000</td>\n    </tr>\n    <tr>\n      <th>25%</th>\n      <td>2023.000000</td>\n      <td>102150.000000</td>\n      <td>104000.00000</td>\n    </tr>\n    <tr>\n      <th>50%</th>\n      <td>2023.000000</td>\n      <td>142000.000000</td>\n      <td>142000.00000</td>\n    </tr>\n    <tr>\n      <th>75%</th>\n      <td>2024.000000</td>\n      <td>185900.000000</td>\n      <td>185900.00000</td>\n    </tr>\n    <tr>\n      <th>max</th>\n      <td>2024.000000</td>\n      <td>450000.000000</td>\n      <td>450000.00000</td>\n    </tr>\n  </tbody>\n</table>\n</div>"
     },
     "execution_count": 97,
     "metadata": {},
     "output_type": "execute_result"
    }
   ],
   "source": [
    "df.describe()"
   ],
   "metadata": {
    "id": "rap__541AvBv",
    "outputId": "9064320e-803d-4fce-fe57-ddf53a9fccd8",
    "colab": {
     "base_uri": "https://localhost:8080/",
     "height": 300
    },
    "ExecuteTime": {
     "end_time": "2024-03-28T23:18:19.231592Z",
     "start_time": "2024-03-28T23:18:19.219522Z"
    }
   },
   "execution_count": 97
  },
  {
   "cell_type": "code",
   "outputs": [
    {
     "data": {
      "text/plain": "   work_year experience_level employment_type               job_title  salary  \\\n0       2024      Entry-level       Freelance  Applied Data Scientist   30000   \n1       2024        Executive       Full-time   Business Intelligence  230000   \n2       2024        Executive       Full-time   Business Intelligence  176900   \n3       2024           Senior       Full-time          Data Architect  171210   \n4       2024           Senior       Full-time          Data Architect   92190   \n\n  salary_currency  salary_in_usd employee_residence work_setting  \\\n0             USD          30000     United Kingdom       Remote   \n1             USD         230000      United States    In-person   \n2             USD         176900      United States    In-person   \n3             USD         171210             Canada    In-person   \n4             USD          92190             Canada    In-person   \n\n  company_location company_size                    job_category  \n0   United Kingdom            M       Data Science and Research  \n1    United States            M            BI and Visualization  \n2    United States            M            BI and Visualization  \n3           Canada            M  Data Architecture and Modeling  \n4           Canada            M  Data Architecture and Modeling  ",
      "text/html": "<div>\n<style scoped>\n    .dataframe tbody tr th:only-of-type {\n        vertical-align: middle;\n    }\n\n    .dataframe tbody tr th {\n        vertical-align: top;\n    }\n\n    .dataframe thead th {\n        text-align: right;\n    }\n</style>\n<table border=\"1\" class=\"dataframe\">\n  <thead>\n    <tr style=\"text-align: right;\">\n      <th></th>\n      <th>work_year</th>\n      <th>experience_level</th>\n      <th>employment_type</th>\n      <th>job_title</th>\n      <th>salary</th>\n      <th>salary_currency</th>\n      <th>salary_in_usd</th>\n      <th>employee_residence</th>\n      <th>work_setting</th>\n      <th>company_location</th>\n      <th>company_size</th>\n      <th>job_category</th>\n    </tr>\n  </thead>\n  <tbody>\n    <tr>\n      <th>0</th>\n      <td>2024</td>\n      <td>Entry-level</td>\n      <td>Freelance</td>\n      <td>Applied Data Scientist</td>\n      <td>30000</td>\n      <td>USD</td>\n      <td>30000</td>\n      <td>United Kingdom</td>\n      <td>Remote</td>\n      <td>United Kingdom</td>\n      <td>M</td>\n      <td>Data Science and Research</td>\n    </tr>\n    <tr>\n      <th>1</th>\n      <td>2024</td>\n      <td>Executive</td>\n      <td>Full-time</td>\n      <td>Business Intelligence</td>\n      <td>230000</td>\n      <td>USD</td>\n      <td>230000</td>\n      <td>United States</td>\n      <td>In-person</td>\n      <td>United States</td>\n      <td>M</td>\n      <td>BI and Visualization</td>\n    </tr>\n    <tr>\n      <th>2</th>\n      <td>2024</td>\n      <td>Executive</td>\n      <td>Full-time</td>\n      <td>Business Intelligence</td>\n      <td>176900</td>\n      <td>USD</td>\n      <td>176900</td>\n      <td>United States</td>\n      <td>In-person</td>\n      <td>United States</td>\n      <td>M</td>\n      <td>BI and Visualization</td>\n    </tr>\n    <tr>\n      <th>3</th>\n      <td>2024</td>\n      <td>Senior</td>\n      <td>Full-time</td>\n      <td>Data Architect</td>\n      <td>171210</td>\n      <td>USD</td>\n      <td>171210</td>\n      <td>Canada</td>\n      <td>In-person</td>\n      <td>Canada</td>\n      <td>M</td>\n      <td>Data Architecture and Modeling</td>\n    </tr>\n    <tr>\n      <th>4</th>\n      <td>2024</td>\n      <td>Senior</td>\n      <td>Full-time</td>\n      <td>Data Architect</td>\n      <td>92190</td>\n      <td>USD</td>\n      <td>92190</td>\n      <td>Canada</td>\n      <td>In-person</td>\n      <td>Canada</td>\n      <td>M</td>\n      <td>Data Architecture and Modeling</td>\n    </tr>\n  </tbody>\n</table>\n</div>"
     },
     "execution_count": 98,
     "metadata": {},
     "output_type": "execute_result"
    }
   ],
   "source": [
    "df.head()"
   ],
   "metadata": {
    "id": "aEFJzNXTAvBw",
    "outputId": "e7082d01-4880-4e78-e4ba-8c8f9550bc02",
    "colab": {
     "base_uri": "https://localhost:8080/",
     "height": 365
    },
    "ExecuteTime": {
     "end_time": "2024-03-28T23:18:19.260629Z",
     "start_time": "2024-03-28T23:18:19.251843Z"
    }
   },
   "execution_count": 98
  },
  {
   "cell_type": "code",
   "outputs": [
    {
     "data": {
      "text/plain": "       work_year experience_level employment_type           job_title  salary  \\\n3560        2024        Mid-level       Full-time      Data Scientist   82915   \n5951        2023           Senior       Full-time       Data Engineer  280000   \n8400        2023        Mid-level       Full-time      Data Scientist   83280   \n13351       2022           Senior       Full-time      Data Scientist  172000   \n8726        2023           Senior       Full-time  Research Scientist  145900   \n\n      salary_currency  salary_in_usd employee_residence work_setting  \\\n3560              USD          82915      United States    In-person   \n5951              USD         280000      United States    In-person   \n8400              CAD          61699             Canada       Remote   \n13351             USD         172000      United States       Remote   \n8726              USD         145900      United States    In-person   \n\n      company_location company_size               job_category  \n3560     United States            M  Data Science and Research  \n5951     United States            M           Data Engineering  \n8400            Canada            L  Data Science and Research  \n13351    United States            M  Data Science and Research  \n8726     United States            M  Data Science and Research  ",
      "text/html": "<div>\n<style scoped>\n    .dataframe tbody tr th:only-of-type {\n        vertical-align: middle;\n    }\n\n    .dataframe tbody tr th {\n        vertical-align: top;\n    }\n\n    .dataframe thead th {\n        text-align: right;\n    }\n</style>\n<table border=\"1\" class=\"dataframe\">\n  <thead>\n    <tr style=\"text-align: right;\">\n      <th></th>\n      <th>work_year</th>\n      <th>experience_level</th>\n      <th>employment_type</th>\n      <th>job_title</th>\n      <th>salary</th>\n      <th>salary_currency</th>\n      <th>salary_in_usd</th>\n      <th>employee_residence</th>\n      <th>work_setting</th>\n      <th>company_location</th>\n      <th>company_size</th>\n      <th>job_category</th>\n    </tr>\n  </thead>\n  <tbody>\n    <tr>\n      <th>3560</th>\n      <td>2024</td>\n      <td>Mid-level</td>\n      <td>Full-time</td>\n      <td>Data Scientist</td>\n      <td>82915</td>\n      <td>USD</td>\n      <td>82915</td>\n      <td>United States</td>\n      <td>In-person</td>\n      <td>United States</td>\n      <td>M</td>\n      <td>Data Science and Research</td>\n    </tr>\n    <tr>\n      <th>5951</th>\n      <td>2023</td>\n      <td>Senior</td>\n      <td>Full-time</td>\n      <td>Data Engineer</td>\n      <td>280000</td>\n      <td>USD</td>\n      <td>280000</td>\n      <td>United States</td>\n      <td>In-person</td>\n      <td>United States</td>\n      <td>M</td>\n      <td>Data Engineering</td>\n    </tr>\n    <tr>\n      <th>8400</th>\n      <td>2023</td>\n      <td>Mid-level</td>\n      <td>Full-time</td>\n      <td>Data Scientist</td>\n      <td>83280</td>\n      <td>CAD</td>\n      <td>61699</td>\n      <td>Canada</td>\n      <td>Remote</td>\n      <td>Canada</td>\n      <td>L</td>\n      <td>Data Science and Research</td>\n    </tr>\n    <tr>\n      <th>13351</th>\n      <td>2022</td>\n      <td>Senior</td>\n      <td>Full-time</td>\n      <td>Data Scientist</td>\n      <td>172000</td>\n      <td>USD</td>\n      <td>172000</td>\n      <td>United States</td>\n      <td>Remote</td>\n      <td>United States</td>\n      <td>M</td>\n      <td>Data Science and Research</td>\n    </tr>\n    <tr>\n      <th>8726</th>\n      <td>2023</td>\n      <td>Senior</td>\n      <td>Full-time</td>\n      <td>Research Scientist</td>\n      <td>145900</td>\n      <td>USD</td>\n      <td>145900</td>\n      <td>United States</td>\n      <td>In-person</td>\n      <td>United States</td>\n      <td>M</td>\n      <td>Data Science and Research</td>\n    </tr>\n  </tbody>\n</table>\n</div>"
     },
     "execution_count": 99,
     "metadata": {},
     "output_type": "execute_result"
    }
   ],
   "source": [
    "df.sample(5)"
   ],
   "metadata": {
    "id": "Rixk96_MAvBx",
    "outputId": "4ea5a977-f8de-4c61-df0e-851cba2a046c",
    "colab": {
     "base_uri": "https://localhost:8080/",
     "height": 347
    },
    "ExecuteTime": {
     "end_time": "2024-03-28T23:18:19.304367Z",
     "start_time": "2024-03-28T23:18:19.293845Z"
    }
   },
   "execution_count": 99
  },
  {
   "cell_type": "code",
   "outputs": [
    {
     "name": "stdout",
     "output_type": "stream",
     "text": [
      "<class 'pandas.core.frame.DataFrame'>\n",
      "RangeIndex: 14199 entries, 0 to 14198\n",
      "Data columns (total 12 columns):\n",
      " #   Column              Non-Null Count  Dtype \n",
      "---  ------              --------------  ----- \n",
      " 0   work_year           14199 non-null  int64 \n",
      " 1   experience_level    14199 non-null  object\n",
      " 2   employment_type     14199 non-null  object\n",
      " 3   job_title           14199 non-null  object\n",
      " 4   salary              14199 non-null  int64 \n",
      " 5   salary_currency     14199 non-null  object\n",
      " 6   salary_in_usd       14199 non-null  int64 \n",
      " 7   employee_residence  14199 non-null  object\n",
      " 8   work_setting        14199 non-null  object\n",
      " 9   company_location    14199 non-null  object\n",
      " 10  company_size        14199 non-null  object\n",
      " 11  job_category        14199 non-null  object\n",
      "dtypes: int64(3), object(9)\n",
      "memory usage: 1.3+ MB\n"
     ]
    }
   ],
   "source": [
    "df.info()"
   ],
   "metadata": {
    "id": "nJLGNSiIAvBy",
    "outputId": "31ab96e7-c31e-44f2-a448-cd1112603dc1",
    "colab": {
     "base_uri": "https://localhost:8080/"
    },
    "ExecuteTime": {
     "end_time": "2024-03-28T23:18:19.398942Z",
     "start_time": "2024-03-28T23:18:19.389518Z"
    }
   },
   "execution_count": 100
  },
  {
   "cell_type": "code",
   "outputs": [],
   "source": [],
   "metadata": {
    "collapsed": false,
    "ExecuteTime": {
     "end_time": "2024-03-28T23:18:19.454656Z",
     "start_time": "2024-03-28T23:18:19.451885Z"
    }
   },
   "execution_count": 100
  },
  {
   "cell_type": "code",
   "outputs": [
    {
     "data": {
      "text/plain": "                                          salary_in_usd\nwork_year job_category                                 \n2020      Data Analysis                    68014.666667\n          Data Engineering                 94575.823529\n          Data Science and Research       129538.827586\n          Machine Learning and AI         113276.400000\n2021      Data Analysis                    87818.500000\n          Data Architecture and Modeling  169940.600000\n          Data Engineering                107192.288889\n          Data Management and Strategy    165000.000000\n          Data Science and Research       107517.819444\n          Leadership and Management       131892.888889\n          Machine Learning and AI         101396.891892\n2022      BI and Visualization            100875.000000\n          Cloud and Database              175000.000000\n          Data Analysis                   107220.831034\n          Data Architecture and Modeling  166091.543478\n          Data Engineering                139629.909820\n          Data Management and Strategy    114024.416667\n          Data Quality and Operations      84770.833333\n          Data Science and Research       143343.794000\n          Leadership and Management       136901.437500\n          Machine Learning and AI         144289.064516\n2023      BI and Visualization            132045.851752\n          Cloud and Database              141666.666667\n          Data Analysis                   107907.573405\n          Data Architecture and Modeling  153193.936508\n          Data Engineering                149396.679006\n          Data Management and Strategy     95169.706897\n          Data Quality and Operations     103316.422222\n          Data Science and Research       168395.044299\n          Leadership and Management       145814.012931\n          Machine Learning and AI         186432.014116\n2024      BI and Visualization            116225.696833\n          Cloud and Database              132666.666667\n          Data Analysis                   105788.605263\n          Data Architecture and Modeling  158069.008621\n          Data Engineering                148341.130496\n          Data Management and Strategy     84164.500000\n          Data Quality and Operations      88216.636364\n          Data Science and Research       161078.688636\n          Leadership and Management       138802.155462\n          Machine Learning and AI         189814.411248",
      "text/html": "<div>\n<style scoped>\n    .dataframe tbody tr th:only-of-type {\n        vertical-align: middle;\n    }\n\n    .dataframe tbody tr th {\n        vertical-align: top;\n    }\n\n    .dataframe thead th {\n        text-align: right;\n    }\n</style>\n<table border=\"1\" class=\"dataframe\">\n  <thead>\n    <tr style=\"text-align: right;\">\n      <th></th>\n      <th></th>\n      <th>salary_in_usd</th>\n    </tr>\n    <tr>\n      <th>work_year</th>\n      <th>job_category</th>\n      <th></th>\n    </tr>\n  </thead>\n  <tbody>\n    <tr>\n      <th rowspan=\"4\" valign=\"top\">2020</th>\n      <th>Data Analysis</th>\n      <td>68014.666667</td>\n    </tr>\n    <tr>\n      <th>Data Engineering</th>\n      <td>94575.823529</td>\n    </tr>\n    <tr>\n      <th>Data Science and Research</th>\n      <td>129538.827586</td>\n    </tr>\n    <tr>\n      <th>Machine Learning and AI</th>\n      <td>113276.400000</td>\n    </tr>\n    <tr>\n      <th rowspan=\"7\" valign=\"top\">2021</th>\n      <th>Data Analysis</th>\n      <td>87818.500000</td>\n    </tr>\n    <tr>\n      <th>Data Architecture and Modeling</th>\n      <td>169940.600000</td>\n    </tr>\n    <tr>\n      <th>Data Engineering</th>\n      <td>107192.288889</td>\n    </tr>\n    <tr>\n      <th>Data Management and Strategy</th>\n      <td>165000.000000</td>\n    </tr>\n    <tr>\n      <th>Data Science and Research</th>\n      <td>107517.819444</td>\n    </tr>\n    <tr>\n      <th>Leadership and Management</th>\n      <td>131892.888889</td>\n    </tr>\n    <tr>\n      <th>Machine Learning and AI</th>\n      <td>101396.891892</td>\n    </tr>\n    <tr>\n      <th rowspan=\"10\" valign=\"top\">2022</th>\n      <th>BI and Visualization</th>\n      <td>100875.000000</td>\n    </tr>\n    <tr>\n      <th>Cloud and Database</th>\n      <td>175000.000000</td>\n    </tr>\n    <tr>\n      <th>Data Analysis</th>\n      <td>107220.831034</td>\n    </tr>\n    <tr>\n      <th>Data Architecture and Modeling</th>\n      <td>166091.543478</td>\n    </tr>\n    <tr>\n      <th>Data Engineering</th>\n      <td>139629.909820</td>\n    </tr>\n    <tr>\n      <th>Data Management and Strategy</th>\n      <td>114024.416667</td>\n    </tr>\n    <tr>\n      <th>Data Quality and Operations</th>\n      <td>84770.833333</td>\n    </tr>\n    <tr>\n      <th>Data Science and Research</th>\n      <td>143343.794000</td>\n    </tr>\n    <tr>\n      <th>Leadership and Management</th>\n      <td>136901.437500</td>\n    </tr>\n    <tr>\n      <th>Machine Learning and AI</th>\n      <td>144289.064516</td>\n    </tr>\n    <tr>\n      <th rowspan=\"10\" valign=\"top\">2023</th>\n      <th>BI and Visualization</th>\n      <td>132045.851752</td>\n    </tr>\n    <tr>\n      <th>Cloud and Database</th>\n      <td>141666.666667</td>\n    </tr>\n    <tr>\n      <th>Data Analysis</th>\n      <td>107907.573405</td>\n    </tr>\n    <tr>\n      <th>Data Architecture and Modeling</th>\n      <td>153193.936508</td>\n    </tr>\n    <tr>\n      <th>Data Engineering</th>\n      <td>149396.679006</td>\n    </tr>\n    <tr>\n      <th>Data Management and Strategy</th>\n      <td>95169.706897</td>\n    </tr>\n    <tr>\n      <th>Data Quality and Operations</th>\n      <td>103316.422222</td>\n    </tr>\n    <tr>\n      <th>Data Science and Research</th>\n      <td>168395.044299</td>\n    </tr>\n    <tr>\n      <th>Leadership and Management</th>\n      <td>145814.012931</td>\n    </tr>\n    <tr>\n      <th>Machine Learning and AI</th>\n      <td>186432.014116</td>\n    </tr>\n    <tr>\n      <th rowspan=\"10\" valign=\"top\">2024</th>\n      <th>BI and Visualization</th>\n      <td>116225.696833</td>\n    </tr>\n    <tr>\n      <th>Cloud and Database</th>\n      <td>132666.666667</td>\n    </tr>\n    <tr>\n      <th>Data Analysis</th>\n      <td>105788.605263</td>\n    </tr>\n    <tr>\n      <th>Data Architecture and Modeling</th>\n      <td>158069.008621</td>\n    </tr>\n    <tr>\n      <th>Data Engineering</th>\n      <td>148341.130496</td>\n    </tr>\n    <tr>\n      <th>Data Management and Strategy</th>\n      <td>84164.500000</td>\n    </tr>\n    <tr>\n      <th>Data Quality and Operations</th>\n      <td>88216.636364</td>\n    </tr>\n    <tr>\n      <th>Data Science and Research</th>\n      <td>161078.688636</td>\n    </tr>\n    <tr>\n      <th>Leadership and Management</th>\n      <td>138802.155462</td>\n    </tr>\n    <tr>\n      <th>Machine Learning and AI</th>\n      <td>189814.411248</td>\n    </tr>\n  </tbody>\n</table>\n</div>"
     },
     "execution_count": 132,
     "metadata": {},
     "output_type": "execute_result"
    }
   ],
   "source": [
    "df.groupby(by=['work_year','job_category'])[['salary_in_usd']].mean()\n"
   ],
   "metadata": {
    "collapsed": false,
    "ExecuteTime": {
     "end_time": "2024-03-28T23:18:33.496343Z",
     "start_time": "2024-03-28T23:18:33.484081Z"
    }
   },
   "execution_count": 132
  },
  {
   "cell_type": "markdown",
   "source": [
    "## Data Cleaning:"
   ],
   "metadata": {
    "collapsed": false,
    "id": "5MomJ6q0AvBz"
   }
  },
  {
   "cell_type": "markdown",
   "source": [
    "### Checking for null values:"
   ],
   "metadata": {
    "collapsed": false,
    "id": "OYQsLFzdAvBz"
   }
  },
  {
   "cell_type": "code",
   "outputs": [
    {
     "name": "stdout",
     "output_type": "stream",
     "text": [
      "Number of NaN values: 0\n"
     ]
    }
   ],
   "source": [
    "nan_count = df.isnull().sum().sum()\n",
    "print('Number of NaN values:', nan_count)"
   ],
   "metadata": {
    "id": "TlRFLX0MAvBz",
    "outputId": "3656f8c6-89f7-4553-b7c7-7a1219bb5f89",
    "colab": {
     "base_uri": "https://localhost:8080/"
    },
    "ExecuteTime": {
     "end_time": "2024-03-28T23:18:19.636635Z",
     "start_time": "2024-03-28T23:18:19.628566Z"
    }
   },
   "execution_count": 102
  },
  {
   "cell_type": "markdown",
   "source": [
    "### Checking for duplicates:"
   ],
   "metadata": {
    "collapsed": false,
    "id": "5QT8rjl9AvB0"
   }
  },
  {
   "cell_type": "code",
   "outputs": [
    {
     "name": "stdout",
     "output_type": "stream",
     "text": [
      "Number of duplicate rows: 5493\n"
     ]
    }
   ],
   "source": [
    "duplicate_rows = df.duplicated().sum()\n",
    "\n",
    "print('Number of duplicate rows:',duplicate_rows)"
   ],
   "metadata": {
    "id": "RGJe9DTLAvB1",
    "outputId": "3cc2378c-6d51-43be-83ec-375da77a5e09",
    "colab": {
     "base_uri": "https://localhost:8080/"
    },
    "ExecuteTime": {
     "end_time": "2024-03-28T23:18:19.742579Z",
     "start_time": "2024-03-28T23:18:19.727169Z"
    }
   },
   "execution_count": 103
  },
  {
   "cell_type": "markdown",
   "source": [
    "### Checking which categorical coloumns need to be addressed:"
   ],
   "metadata": {
    "collapsed": false,
    "id": "LhX0-0KpAvB1"
   }
  },
  {
   "cell_type": "code",
   "outputs": [
    {
     "name": "stdout",
     "output_type": "stream",
     "text": [
      "<class 'pandas.core.frame.DataFrame'>\n",
      "RangeIndex: 14199 entries, 0 to 14198\n",
      "Data columns (total 12 columns):\n",
      " #   Column              Non-Null Count  Dtype \n",
      "---  ------              --------------  ----- \n",
      " 0   work_year           14199 non-null  int64 \n",
      " 1   experience_level    14199 non-null  object\n",
      " 2   employment_type     14199 non-null  object\n",
      " 3   job_title           14199 non-null  object\n",
      " 4   salary              14199 non-null  int64 \n",
      " 5   salary_currency     14199 non-null  object\n",
      " 6   salary_in_usd       14199 non-null  int64 \n",
      " 7   employee_residence  14199 non-null  object\n",
      " 8   work_setting        14199 non-null  object\n",
      " 9   company_location    14199 non-null  object\n",
      " 10  company_size        14199 non-null  object\n",
      " 11  job_category        14199 non-null  object\n",
      "dtypes: int64(3), object(9)\n",
      "memory usage: 1.3+ MB\n"
     ]
    }
   ],
   "source": [
    "df.info()"
   ],
   "metadata": {
    "id": "198n4TtWAvB2",
    "outputId": "196d6e3c-cc4f-4285-84f4-4071501881b9",
    "colab": {
     "base_uri": "https://localhost:8080/"
    },
    "ExecuteTime": {
     "end_time": "2024-03-28T23:18:19.788347Z",
     "start_time": "2024-03-28T23:18:19.778515Z"
    }
   },
   "execution_count": 104
  },
  {
   "cell_type": "markdown",
   "source": [
    "### Dealing with duplicates:"
   ],
   "metadata": {
    "collapsed": false,
    "id": "tKI_6zjYAvB3"
   }
  },
  {
   "cell_type": "code",
   "outputs": [],
   "source": [],
   "metadata": {
    "id": "2UW_a8vvAvB3",
    "ExecuteTime": {
     "end_time": "2024-03-28T23:18:19.908943Z",
     "start_time": "2024-03-28T23:18:19.906082Z"
    }
   },
   "execution_count": 104
  },
  {
   "cell_type": "markdown",
   "source": [
    "### Dealing with categorical coloumns:"
   ],
   "metadata": {
    "collapsed": false,
    "id": "cWT3zBi6AvB3"
   }
  },
  {
   "cell_type": "code",
   "outputs": [],
   "source": [
    "# df['experience_level'] = df['experience_level'].replace({'Entry-level': 0, 'Mid-level': 1, 'Senior': 2, 'Executive': 3})\n",
    "# \n",
    "# df['employment_type'] = df['employment_type'].replace({'Freelance': 0, 'Part-time': 1, 'Contract': 2, 'Full-time': 3})\n",
    "# \n",
    "# df['work_setting'] = df['work_setting'].replace({'Remote': 0, 'Hybrid': 1, 'In-person': 2})\n",
    "# \n",
    "# df['company_size'] = df['company_size'].replace({'S': 0, 'M': 1, 'L': 2})\n",
    "# \n",
    "# df"
   ],
   "metadata": {
    "id": "lFAmTKVYAvB3",
    "ExecuteTime": {
     "end_time": "2024-03-28T23:18:19.939418Z",
     "start_time": "2024-03-28T23:18:19.935292Z"
    }
   },
   "execution_count": 105
  },
  {
   "cell_type": "markdown",
   "source": [
    "## testing plots:"
   ],
   "metadata": {
    "collapsed": false,
    "id": "EjQPOBwpAvB4"
   }
  },
  {
   "cell_type": "code",
   "outputs": [
    {
     "data": {
      "text/plain": "<Figure size 640x480 with 1 Axes>",
      "image/png": "[encoded data removed]"
     },
     "metadata": {},
     "output_type": "display_data"
    }
   ],
   "source": [
    "import matplotlib.pyplot as  plt\n",
    "df.experience_level.str.get_dummies(sep = \",\").sum().plot.pie();"
   ],
   "metadata": {
    "id": "NxP4KxTAAvB4",
    "outputId": "d4c9e7e5-9fbc-4643-d1d9-e2d787f5b83e",
    "colab": {
     "base_uri": "https://localhost:8080/",
     "height": 406
    },
    "ExecuteTime": {
     "end_time": "2024-03-28T23:18:20.255307Z",
     "start_time": "2024-03-28T23:18:19.989267Z"
    }
   },
   "execution_count": 106
  },
  {
   "cell_type": "code",
   "outputs": [
    {
     "data": {
      "text/plain": "<Axes: ylabel='Frequency'>"
     },
     "execution_count": 107,
     "metadata": {},
     "output_type": "execute_result"
    },
    {
     "data": {
      "text/plain": "<Figure size 640x480 with 1 Axes>",
      "image/png": "[encoded data removed]"
     },
     "metadata": {},
     "output_type": "display_data"
    }
   ],
   "source": [
    "df[\"salary_in_usd\"].plot(kind = 'hist')"
   ],
   "metadata": {
    "id": "vMQ_OIpgAvB4",
    "outputId": "42538fb6-a202-4af9-f0bd-de5f9dd7ccb4",
    "colab": {
     "base_uri": "https://localhost:8080/",
     "height": 447
    },
    "ExecuteTime": {
     "end_time": "2024-03-28T23:18:20.473349Z",
     "start_time": "2024-03-28T23:18:20.256316Z"
    }
   },
   "execution_count": 107
  },
  {
   "cell_type": "code",
   "outputs": [
    {
     "data": {
      "text/plain": "<Axes: ylabel='Frequency'>"
     },
     "execution_count": 108,
     "metadata": {},
     "output_type": "execute_result"
    },
    {
     "data": {
      "text/plain": "<Figure size 640x480 with 1 Axes>",
      "image/png": "[encoded data removed]"
     },
     "metadata": {},
     "output_type": "display_data"
    }
   ],
   "source": [
    "df[\"work_year\"].plot(kind = 'hist')"
   ],
   "metadata": {
    "id": "wLR0wzMjAvB5",
    "outputId": "44b10cd7-b892-4cc7-82cf-54b603699158",
    "colab": {
     "base_uri": "https://localhost:8080/",
     "height": 447
    },
    "ExecuteTime": {
     "end_time": "2024-03-28T23:18:20.696578Z",
     "start_time": "2024-03-28T23:18:20.474362Z"
    }
   },
   "execution_count": 108
  },
  {
   "cell_type": "code",
   "source": [
    "df[\"salary\"].plot(kind = 'hist')"
   ],
   "metadata": {
    "id": "laberdkJAz9j",
    "outputId": "42db6d2a-a5d1-4c95-a35a-9e27dab7e8a5",
    "colab": {
     "base_uri": "https://localhost:8080/",
     "height": 447
    },
    "ExecuteTime": {
     "end_time": "2024-03-28T23:18:20.864717Z",
     "start_time": "2024-03-28T23:18:20.698097Z"
    }
   },
   "execution_count": 109,
   "outputs": [
    {
     "data": {
      "text/plain": "<Axes: ylabel='Frequency'>"
     },
     "execution_count": 109,
     "metadata": {},
     "output_type": "execute_result"
    },
    {
     "data": {
      "text/plain": "<Figure size 640x480 with 1 Axes>",
      "image/png": "[encoded data removed]"
     },
     "metadata": {},
     "output_type": "display_data"
    }
   ]
  },
  {
   "cell_type": "markdown",
   "metadata": {
    "id": "1HoTNpx3AvB6"
   },
   "source": [
    "# Moudi:"
   ]
  },
  {
   "cell_type": "markdown",
   "source": [
    "### 1. Data Loading and Initial Exploration:"
   ],
   "metadata": {
    "id": "Ej2R8F8JNzGZ"
   }
  },
  {
   "cell_type": "markdown",
   "source": [
    "Load the selected dataset into your preferred data analysis environment.\n"
   ],
   "metadata": {
    "id": "d-uB2k3eN-P2"
   }
  },
  {
   "cell_type": "code",
   "execution_count": 110,
   "metadata": {
    "vscode": {
     "languageId": "plaintext"
    },
    "id": "C-2B4XyXAvB6",
    "ExecuteTime": {
     "end_time": "2024-03-28T23:18:20.870155Z",
     "start_time": "2024-03-28T23:18:20.866777Z"
    }
   },
   "outputs": [],
   "source": [
    "import pandas as pd\n",
    "import matplotlib.pyplot as plt\n",
    "import seaborn as sns\n",
    "\n",
    "#df = pd.read_csv('/content/jobs_in_data_2024 (1).csv', sep = ',') # to read file"
   ]
  },
  {
   "cell_type": "code",
   "source": [
    "df # to view the dataset"
   ],
   "metadata": {
    "colab": {
     "base_uri": "https://localhost:8080/",
     "height": 721
    },
    "id": "jFGUI6hyNLZr",
    "outputId": "d179ee89-eedc-401b-a8d5-4241f0d4ac5b",
    "ExecuteTime": {
     "end_time": "2024-03-28T23:18:20.882787Z",
     "start_time": "2024-03-28T23:18:20.870661Z"
    }
   },
   "execution_count": 111,
   "outputs": [
    {
     "data": {
      "text/plain": "       work_year experience_level employment_type                 job_title  \\\n0           2024      Entry-level       Freelance    Applied Data Scientist   \n1           2024        Executive       Full-time     Business Intelligence   \n2           2024        Executive       Full-time     Business Intelligence   \n3           2024           Senior       Full-time            Data Architect   \n4           2024           Senior       Full-time            Data Architect   \n...          ...              ...             ...                       ...   \n14194       2021           Senior       Full-time           Data Specialist   \n14195       2020           Senior       Full-time            Data Scientist   \n14196       2021        Mid-level       Full-time  Principal Data Scientist   \n14197       2020      Entry-level       Full-time            Data Scientist   \n14198       2020      Entry-level        Contract     Business Data Analyst   \n\n       salary salary_currency  salary_in_usd employee_residence work_setting  \\\n0       30000             USD          30000     United Kingdom       Remote   \n1      230000             USD         230000      United States    In-person   \n2      176900             USD         176900      United States    In-person   \n3      171210             USD         171210             Canada    In-person   \n4       92190             USD          92190             Canada    In-person   \n...       ...             ...            ...                ...          ...   \n14194  165000             USD         165000      United States       Remote   \n14195  412000             USD         412000      United States       Remote   \n14196  151000             USD         151000      United States       Remote   \n14197  105000             USD         105000      United States       Remote   \n14198  100000             USD         100000      United States       Remote   \n\n      company_location company_size                    job_category  \n0       United Kingdom            M       Data Science and Research  \n1        United States            M            BI and Visualization  \n2        United States            M            BI and Visualization  \n3               Canada            M  Data Architecture and Modeling  \n4               Canada            M  Data Architecture and Modeling  \n...                ...          ...                             ...  \n14194    United States            L    Data Management and Strategy  \n14195    United States            L       Data Science and Research  \n14196    United States            L       Data Science and Research  \n14197    United States            S       Data Science and Research  \n14198    United States            L                   Data Analysis  \n\n[14199 rows x 12 columns]",
      "text/html": "<div>\n<style scoped>\n    .dataframe tbody tr th:only-of-type {\n        vertical-align: middle;\n    }\n\n    .dataframe tbody tr th {\n        vertical-align: top;\n    }\n\n    .dataframe thead th {\n        text-align: right;\n    }\n</style>\n<table border=\"1\" class=\"dataframe\">\n  <thead>\n    <tr style=\"text-align: right;\">\n      <th></th>\n      <th>work_year</th>\n      <th>experience_level</th>\n      <th>employment_type</th>\n      <th>job_title</th>\n      <th>salary</th>\n      <th>salary_currency</th>\n      <th>salary_in_usd</th>\n      <th>employee_residence</th>\n      <th>work_setting</th>\n      <th>company_location</th>\n      <th>company_size</th>\n      <th>job_category</th>\n    </tr>\n  </thead>\n  <tbody>\n    <tr>\n      <th>0</th>\n      <td>2024</td>\n      <td>Entry-level</td>\n      <td>Freelance</td>\n      <td>Applied Data Scientist</td>\n      <td>30000</td>\n      <td>USD</td>\n      <td>30000</td>\n      <td>United Kingdom</td>\n      <td>Remote</td>\n      <td>United Kingdom</td>\n      <td>M</td>\n      <td>Data Science and Research</td>\n    </tr>\n    <tr>\n      <th>1</th>\n      <td>2024</td>\n      <td>Executive</td>\n      <td>Full-time</td>\n      <td>Business Intelligence</td>\n      <td>230000</td>\n      <td>USD</td>\n      <td>230000</td>\n      <td>United States</td>\n      <td>In-person</td>\n      <td>United States</td>\n      <td>M</td>\n      <td>BI and Visualization</td>\n    </tr>\n    <tr>\n      <th>2</th>\n      <td>2024</td>\n      <td>Executive</td>\n      <td>Full-time</td>\n      <td>Business Intelligence</td>\n      <td>176900</td>\n      <td>USD</td>\n      <td>176900</td>\n      <td>United States</td>\n      <td>In-person</td>\n      <td>United States</td>\n      <td>M</td>\n      <td>BI and Visualization</td>\n    </tr>\n    <tr>\n      <th>3</th>\n      <td>2024</td>\n      <td>Senior</td>\n      <td>Full-time</td>\n      <td>Data Architect</td>\n      <td>171210</td>\n      <td>USD</td>\n      <td>171210</td>\n      <td>Canada</td>\n      <td>In-person</td>\n      <td>Canada</td>\n      <td>M</td>\n      <td>Data Architecture and Modeling</td>\n    </tr>\n    <tr>\n      <th>4</th>\n      <td>2024</td>\n      <td>Senior</td>\n      <td>Full-time</td>\n      <td>Data Architect</td>\n      <td>92190</td>\n      <td>USD</td>\n      <td>92190</td>\n      <td>Canada</td>\n      <td>In-person</td>\n      <td>Canada</td>\n      <td>M</td>\n      <td>Data Architecture and Modeling</td>\n    </tr>\n    <tr>\n      <th>...</th>\n      <td>...</td>\n      <td>...</td>\n      <td>...</td>\n      <td>...</td>\n      <td>...</td>\n      <td>...</td>\n      <td>...</td>\n      <td>...</td>\n      <td>...</td>\n      <td>...</td>\n      <td>...</td>\n      <td>...</td>\n    </tr>\n    <tr>\n      <th>14194</th>\n      <td>2021</td>\n      <td>Senior</td>\n      <td>Full-time</td>\n      <td>Data Specialist</td>\n      <td>165000</td>\n      <td>USD</td>\n      <td>165000</td>\n      <td>United States</td>\n      <td>Remote</td>\n      <td>United States</td>\n      <td>L</td>\n      <td>Data Management and Strategy</td>\n    </tr>\n    <tr>\n      <th>14195</th>\n      <td>2020</td>\n      <td>Senior</td>\n      <td>Full-time</td>\n      <td>Data Scientist</td>\n      <td>412000</td>\n      <td>USD</td>\n      <td>412000</td>\n      <td>United States</td>\n      <td>Remote</td>\n      <td>United States</td>\n      <td>L</td>\n      <td>Data Science and Research</td>\n    </tr>\n    <tr>\n      <th>14196</th>\n      <td>2021</td>\n      <td>Mid-level</td>\n      <td>Full-time</td>\n      <td>Principal Data Scientist</td>\n      <td>151000</td>\n      <td>USD</td>\n      <td>151000</td>\n      <td>United States</td>\n      <td>Remote</td>\n      <td>United States</td>\n      <td>L</td>\n      <td>Data Science and Research</td>\n    </tr>\n    <tr>\n      <th>14197</th>\n      <td>2020</td>\n      <td>Entry-level</td>\n      <td>Full-time</td>\n      <td>Data Scientist</td>\n      <td>105000</td>\n      <td>USD</td>\n      <td>105000</td>\n      <td>United States</td>\n      <td>Remote</td>\n      <td>United States</td>\n      <td>S</td>\n      <td>Data Science and Research</td>\n    </tr>\n    <tr>\n      <th>14198</th>\n      <td>2020</td>\n      <td>Entry-level</td>\n      <td>Contract</td>\n      <td>Business Data Analyst</td>\n      <td>100000</td>\n      <td>USD</td>\n      <td>100000</td>\n      <td>United States</td>\n      <td>Remote</td>\n      <td>United States</td>\n      <td>L</td>\n      <td>Data Analysis</td>\n    </tr>\n  </tbody>\n</table>\n<p>14199 rows × 12 columns</p>\n</div>"
     },
     "execution_count": 111,
     "metadata": {},
     "output_type": "execute_result"
    }
   ]
  },
  {
   "cell_type": "markdown",
   "source": [
    "Explore the structure of the dataset (number of rows and columns, data types, etc.)."
   ],
   "metadata": {
    "id": "lVPeFabvOkC7"
   }
  },
  {
   "cell_type": "code",
   "source": [
    "num_rows, num_cols = df.shape # num of cols and rows\n",
    "print(\"Number of rows:\", num_rows)\n",
    "print(\"Number of columns:\", num_cols)"
   ],
   "metadata": {
    "colab": {
     "base_uri": "https://localhost:8080/"
    },
    "id": "2gUSrM2KOi-T",
    "outputId": "9db38286-7efa-4765-adbc-0b13f31afde1",
    "ExecuteTime": {
     "end_time": "2024-03-28T23:18:20.888252Z",
     "start_time": "2024-03-28T23:18:20.883932Z"
    }
   },
   "execution_count": 112,
   "outputs": [
    {
     "name": "stdout",
     "output_type": "stream",
     "text": [
      "Number of rows: 14199\n",
      "Number of columns: 12\n"
     ]
    }
   ]
  },
  {
   "cell_type": "code",
   "source": [
    "df.dtypes # every column's type"
   ],
   "metadata": {
    "colab": {
     "base_uri": "https://localhost:8080/"
    },
    "id": "StexufzeOyqc",
    "outputId": "26205801-c4d4-405e-e31f-760f881a4bba",
    "ExecuteTime": {
     "end_time": "2024-03-28T23:18:20.894680Z",
     "start_time": "2024-03-28T23:18:20.889259Z"
    }
   },
   "execution_count": 113,
   "outputs": [
    {
     "data": {
      "text/plain": "work_year              int64\nexperience_level      object\nemployment_type       object\njob_title             object\nsalary                 int64\nsalary_currency       object\nsalary_in_usd          int64\nemployee_residence    object\nwork_setting          object\ncompany_location      object\ncompany_size          object\njob_category          object\ndtype: object"
     },
     "execution_count": 113,
     "metadata": {},
     "output_type": "execute_result"
    }
   ]
  },
  {
   "cell_type": "markdown",
   "source": [
    "Examine the first few rows of the dataset to understand its contents"
   ],
   "metadata": {
    "id": "OgelOgQVQMhT"
   }
  },
  {
   "cell_type": "code",
   "source": [
    "df.head(3) # show the first 3 rows\n"
   ],
   "metadata": {
    "colab": {
     "base_uri": "https://localhost:8080/",
     "height": 233
    },
    "id": "OiXZXaIhPoBS",
    "outputId": "f5d9572b-71b3-4097-e536-34e7f1710b78",
    "ExecuteTime": {
     "end_time": "2024-03-28T23:18:20.905108Z",
     "start_time": "2024-03-28T23:18:20.895792Z"
    }
   },
   "execution_count": 114,
   "outputs": [
    {
     "data": {
      "text/plain": "   work_year experience_level employment_type               job_title  salary  \\\n0       2024      Entry-level       Freelance  Applied Data Scientist   30000   \n1       2024        Executive       Full-time   Business Intelligence  230000   \n2       2024        Executive       Full-time   Business Intelligence  176900   \n\n  salary_currency  salary_in_usd employee_residence work_setting  \\\n0             USD          30000     United Kingdom       Remote   \n1             USD         230000      United States    In-person   \n2             USD         176900      United States    In-person   \n\n  company_location company_size               job_category  \n0   United Kingdom            M  Data Science and Research  \n1    United States            M       BI and Visualization  \n2    United States            M       BI and Visualization  ",
      "text/html": "<div>\n<style scoped>\n    .dataframe tbody tr th:only-of-type {\n        vertical-align: middle;\n    }\n\n    .dataframe tbody tr th {\n        vertical-align: top;\n    }\n\n    .dataframe thead th {\n        text-align: right;\n    }\n</style>\n<table border=\"1\" class=\"dataframe\">\n  <thead>\n    <tr style=\"text-align: right;\">\n      <th></th>\n      <th>work_year</th>\n      <th>experience_level</th>\n      <th>employment_type</th>\n      <th>job_title</th>\n      <th>salary</th>\n      <th>salary_currency</th>\n      <th>salary_in_usd</th>\n      <th>employee_residence</th>\n      <th>work_setting</th>\n      <th>company_location</th>\n      <th>company_size</th>\n      <th>job_category</th>\n    </tr>\n  </thead>\n  <tbody>\n    <tr>\n      <th>0</th>\n      <td>2024</td>\n      <td>Entry-level</td>\n      <td>Freelance</td>\n      <td>Applied Data Scientist</td>\n      <td>30000</td>\n      <td>USD</td>\n      <td>30000</td>\n      <td>United Kingdom</td>\n      <td>Remote</td>\n      <td>United Kingdom</td>\n      <td>M</td>\n      <td>Data Science and Research</td>\n    </tr>\n    <tr>\n      <th>1</th>\n      <td>2024</td>\n      <td>Executive</td>\n      <td>Full-time</td>\n      <td>Business Intelligence</td>\n      <td>230000</td>\n      <td>USD</td>\n      <td>230000</td>\n      <td>United States</td>\n      <td>In-person</td>\n      <td>United States</td>\n      <td>M</td>\n      <td>BI and Visualization</td>\n    </tr>\n    <tr>\n      <th>2</th>\n      <td>2024</td>\n      <td>Executive</td>\n      <td>Full-time</td>\n      <td>Business Intelligence</td>\n      <td>176900</td>\n      <td>USD</td>\n      <td>176900</td>\n      <td>United States</td>\n      <td>In-person</td>\n      <td>United States</td>\n      <td>M</td>\n      <td>BI and Visualization</td>\n    </tr>\n  </tbody>\n</table>\n</div>"
     },
     "execution_count": 114,
     "metadata": {},
     "output_type": "execute_result"
    }
   ]
  },
  {
   "cell_type": "code",
   "source": [
    "df.tail(3) # show last 3 rows\n"
   ],
   "metadata": {
    "colab": {
     "base_uri": "https://localhost:8080/",
     "height": 250
    },
    "id": "rdeMZCk0Ptxl",
    "outputId": "d1478fb0-e3ca-4a5d-9b29-0ebe720b03dd",
    "ExecuteTime": {
     "end_time": "2024-03-28T23:18:20.914973Z",
     "start_time": "2024-03-28T23:18:20.906116Z"
    }
   },
   "execution_count": 115,
   "outputs": [
    {
     "data": {
      "text/plain": "       work_year experience_level employment_type                 job_title  \\\n14196       2021        Mid-level       Full-time  Principal Data Scientist   \n14197       2020      Entry-level       Full-time            Data Scientist   \n14198       2020      Entry-level        Contract     Business Data Analyst   \n\n       salary salary_currency  salary_in_usd employee_residence work_setting  \\\n14196  151000             USD         151000      United States       Remote   \n14197  105000             USD         105000      United States       Remote   \n14198  100000             USD         100000      United States       Remote   \n\n      company_location company_size               job_category  \n14196    United States            L  Data Science and Research  \n14197    United States            S  Data Science and Research  \n14198    United States            L              Data Analysis  ",
      "text/html": "<div>\n<style scoped>\n    .dataframe tbody tr th:only-of-type {\n        vertical-align: middle;\n    }\n\n    .dataframe tbody tr th {\n        vertical-align: top;\n    }\n\n    .dataframe thead th {\n        text-align: right;\n    }\n</style>\n<table border=\"1\" class=\"dataframe\">\n  <thead>\n    <tr style=\"text-align: right;\">\n      <th></th>\n      <th>work_year</th>\n      <th>experience_level</th>\n      <th>employment_type</th>\n      <th>job_title</th>\n      <th>salary</th>\n      <th>salary_currency</th>\n      <th>salary_in_usd</th>\n      <th>employee_residence</th>\n      <th>work_setting</th>\n      <th>company_location</th>\n      <th>company_size</th>\n      <th>job_category</th>\n    </tr>\n  </thead>\n  <tbody>\n    <tr>\n      <th>14196</th>\n      <td>2021</td>\n      <td>Mid-level</td>\n      <td>Full-time</td>\n      <td>Principal Data Scientist</td>\n      <td>151000</td>\n      <td>USD</td>\n      <td>151000</td>\n      <td>United States</td>\n      <td>Remote</td>\n      <td>United States</td>\n      <td>L</td>\n      <td>Data Science and Research</td>\n    </tr>\n    <tr>\n      <th>14197</th>\n      <td>2020</td>\n      <td>Entry-level</td>\n      <td>Full-time</td>\n      <td>Data Scientist</td>\n      <td>105000</td>\n      <td>USD</td>\n      <td>105000</td>\n      <td>United States</td>\n      <td>Remote</td>\n      <td>United States</td>\n      <td>S</td>\n      <td>Data Science and Research</td>\n    </tr>\n    <tr>\n      <th>14198</th>\n      <td>2020</td>\n      <td>Entry-level</td>\n      <td>Contract</td>\n      <td>Business Data Analyst</td>\n      <td>100000</td>\n      <td>USD</td>\n      <td>100000</td>\n      <td>United States</td>\n      <td>Remote</td>\n      <td>United States</td>\n      <td>L</td>\n      <td>Data Analysis</td>\n    </tr>\n  </tbody>\n</table>\n</div>"
     },
     "execution_count": 115,
     "metadata": {},
     "output_type": "execute_result"
    }
   ]
  },
  {
   "cell_type": "code",
   "source": [
    "df.sample(3) # 3 randoms rows"
   ],
   "metadata": {
    "colab": {
     "base_uri": "https://localhost:8080/",
     "height": 233
    },
    "id": "BGAiKdk5QXnT",
    "outputId": "25b65f15-f81d-49f3-8afa-de7fae49e600",
    "ExecuteTime": {
     "end_time": "2024-03-28T23:18:20.925404Z",
     "start_time": "2024-03-28T23:18:20.916241Z"
    }
   },
   "execution_count": 116,
   "outputs": [
    {
     "data": {
      "text/plain": "      work_year experience_level employment_type  \\\n4837       2023        Mid-level       Full-time   \n83         2024           Senior       Full-time   \n3896       2023           Senior       Full-time   \n\n                            job_title  salary salary_currency  salary_in_usd  \\\n4837                     Data Analyst   70000             USD          70000   \n83            Computational Biologist  174000             USD         174000   \n3896  Business Intelligence Developer  102000             USD         102000   \n\n     employee_residence work_setting company_location company_size  \\\n4837        Philippines    In-person      Philippines            M   \n83        United States    In-person    United States            M   \n3896      United States       Remote    United States            M   \n\n                   job_category  \n4837              Data Analysis  \n83    Data Science and Research  \n3896       BI and Visualization  ",
      "text/html": "<div>\n<style scoped>\n    .dataframe tbody tr th:only-of-type {\n        vertical-align: middle;\n    }\n\n    .dataframe tbody tr th {\n        vertical-align: top;\n    }\n\n    .dataframe thead th {\n        text-align: right;\n    }\n</style>\n<table border=\"1\" class=\"dataframe\">\n  <thead>\n    <tr style=\"text-align: right;\">\n      <th></th>\n      <th>work_year</th>\n      <th>experience_level</th>\n      <th>employment_type</th>\n      <th>job_title</th>\n      <th>salary</th>\n      <th>salary_currency</th>\n      <th>salary_in_usd</th>\n      <th>employee_residence</th>\n      <th>work_setting</th>\n      <th>company_location</th>\n      <th>company_size</th>\n      <th>job_category</th>\n    </tr>\n  </thead>\n  <tbody>\n    <tr>\n      <th>4837</th>\n      <td>2023</td>\n      <td>Mid-level</td>\n      <td>Full-time</td>\n      <td>Data Analyst</td>\n      <td>70000</td>\n      <td>USD</td>\n      <td>70000</td>\n      <td>Philippines</td>\n      <td>In-person</td>\n      <td>Philippines</td>\n      <td>M</td>\n      <td>Data Analysis</td>\n    </tr>\n    <tr>\n      <th>83</th>\n      <td>2024</td>\n      <td>Senior</td>\n      <td>Full-time</td>\n      <td>Computational Biologist</td>\n      <td>174000</td>\n      <td>USD</td>\n      <td>174000</td>\n      <td>United States</td>\n      <td>In-person</td>\n      <td>United States</td>\n      <td>M</td>\n      <td>Data Science and Research</td>\n    </tr>\n    <tr>\n      <th>3896</th>\n      <td>2023</td>\n      <td>Senior</td>\n      <td>Full-time</td>\n      <td>Business Intelligence Developer</td>\n      <td>102000</td>\n      <td>USD</td>\n      <td>102000</td>\n      <td>United States</td>\n      <td>Remote</td>\n      <td>United States</td>\n      <td>M</td>\n      <td>BI and Visualization</td>\n    </tr>\n  </tbody>\n</table>\n</div>"
     },
     "execution_count": 116,
     "metadata": {},
     "output_type": "execute_result"
    }
   ]
  },
  {
   "cell_type": "code",
   "source": [
    "df.columns # names of dataframe\n"
   ],
   "metadata": {
    "colab": {
     "base_uri": "https://localhost:8080/"
    },
    "id": "-1VELKCBQkN8",
    "outputId": "c7089578-b267-4a76-dc72-e64d2766604b",
    "ExecuteTime": {
     "end_time": "2024-03-28T23:18:20.931174Z",
     "start_time": "2024-03-28T23:18:20.926414Z"
    }
   },
   "execution_count": 117,
   "outputs": [
    {
     "data": {
      "text/plain": "Index(['work_year', 'experience_level', 'employment_type', 'job_title',\n       'salary', 'salary_currency', 'salary_in_usd', 'employee_residence',\n       'work_setting', 'company_location', 'company_size', 'job_category'],\n      dtype='object')"
     },
     "execution_count": 117,
     "metadata": {},
     "output_type": "execute_result"
    }
   ]
  },
  {
   "cell_type": "markdown",
   "source": [],
   "metadata": {
    "id": "LoLddLeTSAlK"
   }
  },
  {
   "cell_type": "markdown",
   "source": [
    "### 2. Data Cleaning:"
   ],
   "metadata": {
    "id": "Wxe3OHEHR6sI"
   }
  },
  {
   "cell_type": "markdown",
   "source": [
    "Handle missing values appropriately (e.g., imputation, deletion, etc.)."
   ],
   "metadata": {
    "id": "9OozMRl4R-Cj"
   }
  },
  {
   "cell_type": "code",
   "source": [
    "miss_values = df.isnull().sum() # to check missing values\n",
    "miss_values"
   ],
   "metadata": {
    "colab": {
     "base_uri": "https://localhost:8080/"
    },
    "id": "sUc9hXfZSBW-",
    "outputId": "e2899609-1a15-490b-9e6e-bfa055152221",
    "ExecuteTime": {
     "end_time": "2024-03-28T23:18:20.940767Z",
     "start_time": "2024-03-28T23:18:20.932179Z"
    }
   },
   "execution_count": 118,
   "outputs": [
    {
     "data": {
      "text/plain": "work_year             0\nexperience_level      0\nemployment_type       0\njob_title             0\nsalary                0\nsalary_currency       0\nsalary_in_usd         0\nemployee_residence    0\nwork_setting          0\ncompany_location      0\ncompany_size          0\njob_category          0\ndtype: int64"
     },
     "execution_count": 118,
     "metadata": {},
     "output_type": "execute_result"
    }
   ]
  },
  {
   "cell_type": "code",
   "source": [
    "# df_dropna = df.dropna() # drop rows with missing values\n",
    "##df_dropna"
   ],
   "metadata": {
    "id": "CQPORnp8Sq-L",
    "ExecuteTime": {
     "end_time": "2024-03-28T23:18:20.946880Z",
     "start_time": "2024-03-28T23:18:20.943774Z"
    }
   },
   "execution_count": 119,
   "outputs": []
  },
  {
   "cell_type": "code",
   "source": [
    "## f_fillna = df.fillna(1) # fill missing values with specific value\n",
    "##f_fillna"
   ],
   "metadata": {
    "id": "lpsx2J4STTxx",
    "ExecuteTime": {
     "end_time": "2024-03-28T23:18:20.950591Z",
     "start_time": "2024-03-28T23:18:20.947889Z"
    }
   },
   "execution_count": 120,
   "outputs": []
  },
  {
   "cell_type": "markdown",
   "source": [
    "Check for and handle any duplicate entries."
   ],
   "metadata": {
    "id": "V6zs5D3qUY2e"
   }
  },
  {
   "cell_type": "code",
   "source": [
    "# dup_rows = df.duplicated() # check for duplicate\n",
    "# dup_rows.sum() # if used sum() fun will sum the total duplicate , if not will display t or f"
   ],
   "metadata": {
    "colab": {
     "base_uri": "https://localhost:8080/"
    },
    "id": "ucE0V8X-UbDm",
    "outputId": "f7a4375b-0fcc-487d-957b-769410f5b931",
    "ExecuteTime": {
     "end_time": "2024-03-28T23:18:20.955394Z",
     "start_time": "2024-03-28T23:18:20.951600Z"
    }
   },
   "execution_count": 121,
   "outputs": []
  },
  {
   "cell_type": "code",
   "source": [
    "# drop_dep = df.drop_duplicates(inplace= True) # remove duplicate rows\n",
    "# drop_dep\n"
   ],
   "metadata": {
    "id": "DXpgvj_fWmVU",
    "ExecuteTime": {
     "end_time": "2024-03-28T23:18:20.959534Z",
     "start_time": "2024-03-28T23:18:20.956401Z"
    }
   },
   "execution_count": 122,
   "outputs": []
  },
  {
   "cell_type": "markdown",
   "source": [
    "Convert categorical variables into the appropriate data type if necessary"
   ],
   "metadata": {
    "id": "thWKazu1a4W1"
   }
  },
  {
   "cell_type": "markdown",
   "source": [
    "This is not necessary but why not :)"
   ],
   "metadata": {
    "id": "xqKMipzIwgH7"
   }
  },
  {
   "cell_type": "code",
   "source": [
    "df['salary'] = df['salary'].astype(float) # Convert salary column from int to float\n",
    "df.dtypes\n"
   ],
   "metadata": {
    "id": "jW6TAmola4G2",
    "ExecuteTime": {
     "end_time": "2024-03-28T23:18:20.966815Z",
     "start_time": "2024-03-28T23:18:20.960545Z"
    }
   },
   "execution_count": 123,
   "outputs": [
    {
     "data": {
      "text/plain": "work_year               int64\nexperience_level       object\nemployment_type        object\njob_title              object\nsalary                float64\nsalary_currency        object\nsalary_in_usd           int64\nemployee_residence     object\nwork_setting           object\ncompany_location       object\ncompany_size           object\njob_category           object\ndtype: object"
     },
     "execution_count": 123,
     "metadata": {},
     "output_type": "execute_result"
    }
   ]
  },
  {
   "cell_type": "markdown",
   "source": [
    "### 3. Exploratory Data Analysis:"
   ],
   "metadata": {
    "id": "y-iCk0zOwpMJ"
   }
  },
  {
   "cell_type": "markdown",
   "source": [
    "Conduct univariate analysis to understand the distribution of individual variables (e.g., listing prices, number of reviews, etc.)."
   ],
   "metadata": {
    "id": "wLEsPEzSxjKl"
   }
  },
  {
   "cell_type": "code",
   "source": [
    "df.describe() # summary statistics"
   ],
   "metadata": {
    "colab": {
     "base_uri": "https://localhost:8080/",
     "height": 300
    },
    "id": "upE9nflSxitZ",
    "outputId": "e7eeefcf-44b4-4867-cbda-e9105c49c9b4",
    "ExecuteTime": {
     "end_time": "2024-03-28T23:18:20.979524Z",
     "start_time": "2024-03-28T23:18:20.967826Z"
    }
   },
   "execution_count": 124,
   "outputs": [
    {
     "data": {
      "text/plain": "          work_year         salary  salary_in_usd\ncount  14199.000000   14199.000000    14199.00000\nmean    2023.110501  149057.514262   149472.04944\nstd        0.686929   64932.044143    64379.26016\nmin     2020.000000   14000.000000    15000.00000\n25%     2023.000000  102150.000000   104000.00000\n50%     2023.000000  142000.000000   142000.00000\n75%     2024.000000  185900.000000   185900.00000\nmax     2024.000000  450000.000000   450000.00000",
      "text/html": "<div>\n<style scoped>\n    .dataframe tbody tr th:only-of-type {\n        vertical-align: middle;\n    }\n\n    .dataframe tbody tr th {\n        vertical-align: top;\n    }\n\n    .dataframe thead th {\n        text-align: right;\n    }\n</style>\n<table border=\"1\" class=\"dataframe\">\n  <thead>\n    <tr style=\"text-align: right;\">\n      <th></th>\n      <th>work_year</th>\n      <th>salary</th>\n      <th>salary_in_usd</th>\n    </tr>\n  </thead>\n  <tbody>\n    <tr>\n      <th>count</th>\n      <td>14199.000000</td>\n      <td>14199.000000</td>\n      <td>14199.00000</td>\n    </tr>\n    <tr>\n      <th>mean</th>\n      <td>2023.110501</td>\n      <td>149057.514262</td>\n      <td>149472.04944</td>\n    </tr>\n    <tr>\n      <th>std</th>\n      <td>0.686929</td>\n      <td>64932.044143</td>\n      <td>64379.26016</td>\n    </tr>\n    <tr>\n      <th>min</th>\n      <td>2020.000000</td>\n      <td>14000.000000</td>\n      <td>15000.00000</td>\n    </tr>\n    <tr>\n      <th>25%</th>\n      <td>2023.000000</td>\n      <td>102150.000000</td>\n      <td>104000.00000</td>\n    </tr>\n    <tr>\n      <th>50%</th>\n      <td>2023.000000</td>\n      <td>142000.000000</td>\n      <td>142000.00000</td>\n    </tr>\n    <tr>\n      <th>75%</th>\n      <td>2024.000000</td>\n      <td>185900.000000</td>\n      <td>185900.00000</td>\n    </tr>\n    <tr>\n      <th>max</th>\n      <td>2024.000000</td>\n      <td>450000.000000</td>\n      <td>450000.00000</td>\n    </tr>\n  </tbody>\n</table>\n</div>"
     },
     "execution_count": 124,
     "metadata": {},
     "output_type": "execute_result"
    }
   ]
  },
  {
   "cell_type": "code",
   "source": [
    "df['salary'].describe() # statistics of the salary column"
   ],
   "metadata": {
    "colab": {
     "base_uri": "https://localhost:8080/"
    },
    "id": "1hW4IR_1EEQh",
    "outputId": "bbbb465c-3c93-4086-91a7-6ff257f5c278",
    "ExecuteTime": {
     "end_time": "2024-03-28T23:18:20.987127Z",
     "start_time": "2024-03-28T23:18:20.980534Z"
    }
   },
   "execution_count": 125,
   "outputs": [
    {
     "data": {
      "text/plain": "count     14199.000000\nmean     149057.514262\nstd       64932.044143\nmin       14000.000000\n25%      102150.000000\n50%      142000.000000\n75%      185900.000000\nmax      450000.000000\nName: salary, dtype: float64"
     },
     "execution_count": 125,
     "metadata": {},
     "output_type": "execute_result"
    }
   ]
  },
  {
   "cell_type": "code",
   "source": [
    "df['work_setting'].describe() # statistics of the work_setting column"
   ],
   "metadata": {
    "colab": {
     "base_uri": "https://localhost:8080/"
    },
    "id": "rBoQfpytDmb0",
    "outputId": "ed4d93a1-31f9-419b-a308-b55a7749332a",
    "ExecuteTime": {
     "end_time": "2024-03-28T23:18:20.994563Z",
     "start_time": "2024-03-28T23:18:20.988273Z"
    }
   },
   "execution_count": 126,
   "outputs": [
    {
     "data": {
      "text/plain": "count         14199\nunique            3\ntop       In-person\nfreq           9413\nName: work_setting, dtype: object"
     },
     "execution_count": 126,
     "metadata": {},
     "output_type": "execute_result"
    }
   ]
  },
  {
   "cell_type": "code",
   "source": [
    "df['job_title'].describe() # statistics of the job_title column"
   ],
   "metadata": {
    "colab": {
     "base_uri": "https://localhost:8080/"
    },
    "id": "Qe6qZmUZqKNW",
    "outputId": "100a563e-62c3-4250-ad46-ec13a7619a95",
    "ExecuteTime": {
     "end_time": "2024-03-28T23:18:21.004522Z",
     "start_time": "2024-03-28T23:18:20.995574Z"
    }
   },
   "execution_count": 127,
   "outputs": [
    {
     "data": {
      "text/plain": "count             14199\nunique              149\ntop       Data Engineer\nfreq               3059\nName: job_title, dtype: object"
     },
     "execution_count": 127,
     "metadata": {},
     "output_type": "execute_result"
    }
   ]
  },
  {
   "cell_type": "markdown",
   "source": [
    "Perform bivariate analysis to explore relationships between variables (e.g., price vs. property type, price vs. neighborhood, etc.)."
   ],
   "metadata": {
    "id": "d_V0oEs9yMsA"
   }
  },
  {
   "cell_type": "code",
   "source": [],
   "metadata": {
    "id": "lWL0551z-ERV",
    "ExecuteTime": {
     "end_time": "2024-03-28T23:18:21.008145Z",
     "start_time": "2024-03-28T23:18:21.005532Z"
    }
   },
   "execution_count": 127,
   "outputs": []
  },
  {
   "cell_type": "markdown",
   "source": [
    "Visualize the data using appropriate plots (e.g., histograms, box plots, scatter plots, etc.).\n"
   ],
   "metadata": {
    "id": "MVhMPlPm608Z"
   }
  },
  {
   "cell_type": "code",
   "source": [],
   "metadata": {
    "id": "EwYFHW2mBp7V",
    "ExecuteTime": {
     "end_time": "2024-03-28T23:18:21.011275Z",
     "start_time": "2024-03-28T23:18:21.009153Z"
    }
   },
   "execution_count": 127,
   "outputs": []
  },
  {
   "cell_type": "code",
   "source": [
    "category_counts = df['work_setting'].value_counts() # Calculate the count of each\n",
    "custom_colors = ['#FF8080', '#80DFFF', '#B580FF', '#FFD580']\n",
    "plt.figure(figsize=(3, 5)) # Create pie chart\n",
    "plt.pie(category_counts, labels=category_counts.index, autopct='%1.0f%%', startangle=90, colors=custom_colors)\n",
    "plt.axis('equal')\n",
    "plt.title('Distribution of work conditions')\n",
    "plt.show()"
   ],
   "metadata": {
    "colab": {
     "base_uri": "https://localhost:8080/",
     "height": 444
    },
    "id": "EgT4IAQItNYr",
    "outputId": "57495948-9b07-4d98-8799-ba6d638b215a",
    "ExecuteTime": {
     "end_time": "2024-03-28T23:18:21.081064Z",
     "start_time": "2024-03-28T23:18:21.012284Z"
    }
   },
   "execution_count": 128,
   "outputs": [
    {
     "data": {
      "text/plain": "<Figure size 300x500 with 1 Axes>",
      "image/png": "[encoded data removed]"
     },
     "metadata": {},
     "output_type": "display_data"
    }
   ]
  },
  {
   "cell_type": "markdown",
   "source": [
    "This Pie Chart shows the percentage of work conditions\n",
    "\n",
    "*   Hybird\n",
    "*   Remote\n",
    "*   In person\n",
    "\n",
    "\n",
    "\n",
    "\n"
   ],
   "metadata": {
    "id": "mk79Oam5wxHE"
   }
  },
  {
   "cell_type": "markdown",
   "source": [
    "Calculate summary statistics for relevant variables."
   ],
   "metadata": {
    "id": "38-hKnMjA5e5"
   }
  },
  {
   "cell_type": "code",
   "source": [
    "summary_stats_numerical = df.describe() # calc summary statistics for all numerical var\n",
    "summary_stats_numerical"
   ],
   "metadata": {
    "colab": {
     "base_uri": "https://localhost:8080/",
     "height": 300
    },
    "id": "B1f2fgH_Czyt",
    "outputId": "7f554800-7056-4f4e-8162-43cff064a193",
    "ExecuteTime": {
     "end_time": "2024-03-28T23:18:21.094079Z",
     "start_time": "2024-03-28T23:18:21.082071Z"
    }
   },
   "execution_count": 129,
   "outputs": [
    {
     "data": {
      "text/plain": "          work_year         salary  salary_in_usd\ncount  14199.000000   14199.000000    14199.00000\nmean    2023.110501  149057.514262   149472.04944\nstd        0.686929   64932.044143    64379.26016\nmin     2020.000000   14000.000000    15000.00000\n25%     2023.000000  102150.000000   104000.00000\n50%     2023.000000  142000.000000   142000.00000\n75%     2024.000000  185900.000000   185900.00000\nmax     2024.000000  450000.000000   450000.00000",
      "text/html": "<div>\n<style scoped>\n    .dataframe tbody tr th:only-of-type {\n        vertical-align: middle;\n    }\n\n    .dataframe tbody tr th {\n        vertical-align: top;\n    }\n\n    .dataframe thead th {\n        text-align: right;\n    }\n</style>\n<table border=\"1\" class=\"dataframe\">\n  <thead>\n    <tr style=\"text-align: right;\">\n      <th></th>\n      <th>work_year</th>\n      <th>salary</th>\n      <th>salary_in_usd</th>\n    </tr>\n  </thead>\n  <tbody>\n    <tr>\n      <th>count</th>\n      <td>14199.000000</td>\n      <td>14199.000000</td>\n      <td>14199.00000</td>\n    </tr>\n    <tr>\n      <th>mean</th>\n      <td>2023.110501</td>\n      <td>149057.514262</td>\n      <td>149472.04944</td>\n    </tr>\n    <tr>\n      <th>std</th>\n      <td>0.686929</td>\n      <td>64932.044143</td>\n      <td>64379.26016</td>\n    </tr>\n    <tr>\n      <th>min</th>\n      <td>2020.000000</td>\n      <td>14000.000000</td>\n      <td>15000.00000</td>\n    </tr>\n    <tr>\n      <th>25%</th>\n      <td>2023.000000</td>\n      <td>102150.000000</td>\n      <td>104000.00000</td>\n    </tr>\n    <tr>\n      <th>50%</th>\n      <td>2023.000000</td>\n      <td>142000.000000</td>\n      <td>142000.00000</td>\n    </tr>\n    <tr>\n      <th>75%</th>\n      <td>2024.000000</td>\n      <td>185900.000000</td>\n      <td>185900.00000</td>\n    </tr>\n    <tr>\n      <th>max</th>\n      <td>2024.000000</td>\n      <td>450000.000000</td>\n      <td>450000.00000</td>\n    </tr>\n  </tbody>\n</table>\n</div>"
     },
     "execution_count": 129,
     "metadata": {},
     "output_type": "execute_result"
    }
   ]
  },
  {
   "cell_type": "code",
   "source": [
    "summary_categ = df.value_counts() # calc summary statistics for job category\n",
    "summary_categ"
   ],
   "metadata": {
    "colab": {
     "base_uri": "https://localhost:8080/"
    },
    "id": "VGQM1aNs_97T",
    "outputId": "082ed3bb-76f1-4a8b-cbab-7aad85de0e92",
    "ExecuteTime": {
     "end_time": "2024-03-28T23:18:21.114478Z",
     "start_time": "2024-03-28T23:18:21.095089Z"
    }
   },
   "execution_count": 130,
   "outputs": [
    {
     "data": {
      "text/plain": "work_year  experience_level  employment_type  job_title                   salary    salary_currency  salary_in_usd  employee_residence  work_setting  company_location  company_size  job_category             \n2023       Senior            Full-time        Applied Scientist           136000.0  USD              136000         United States       In-person     United States     L             Data Science and Research    54\n                                              Machine Learning Engineer   204500.0  USD              204500         United States       In-person     United States     M             Machine Learning and AI      35\n                                                                          142200.0  USD              142200         United States       In-person     United States     M             Machine Learning and AI      34\n                                              Applied Scientist           222200.0  USD              222200         United States       In-person     United States     L             Data Science and Research    29\n                                              Data Scientist              129300.0  USD              129300         United States       In-person     United States     M             Data Science and Research    26\n                                                                                                                                                                                                                   ..\n                                              Analytics Engineer          267000.0  USD              267000         United States       In-person     United States     M             Leadership and Management     1\n                                                                          245000.0  USD              245000         United States       Remote        United States     M             Leadership and Management     1\n                                                                          240000.0  USD              240000         United States       In-person     United States     M             Leadership and Management     1\n                                                                          235400.0  USD              235400         United States       Remote        United States     M             Leadership and Management     1\n2024       Senior            Full-time        Robotics Software Engineer  282000.0  USD              282000         United States       In-person     United States     M             Machine Learning and AI       1\nName: count, Length: 8706, dtype: int64"
     },
     "execution_count": 130,
     "metadata": {},
     "output_type": "execute_result"
    }
   ]
  },
  {
   "cell_type": "code",
   "source": [
    "#just for try\n",
    "#xchange = 3.75\n",
    "#df['salary_in_sr'] = df['salary_in_usd'] * exchange # Convert the salary from usd to SR\n",
    "#df.head(5)"
   ],
   "metadata": {
    "colab": {
     "base_uri": "https://localhost:8080/",
     "height": 365
    },
    "id": "5PDWo32rE_N5",
    "outputId": "5b0a9d32-8efe-4b9a-a4af-2975956a69aa",
    "ExecuteTime": {
     "end_time": "2024-03-28T23:18:21.118105Z",
     "start_time": "2024-03-28T23:18:21.115488Z"
    }
   },
   "execution_count": 131,
   "outputs": []
  }
 ],
 "metadata": {
  "colab": {
   "provenance": [],
   "include_colab_link": true
  },
  "kernelspec": {
   "display_name": "Python 3 (ipykernel)",
   "language": "python",
   "name": "python3"
  },
  "language_info": {
   "codemirror_mode": {
    "name": "ipython",
    "version": 3
   },
   "file_extension": ".py",
   "mimetype": "text/x-python",
   "name": "python",
   "nbconvert_exporter": "python",
   "pygments_lexer": "ipython3",
   "version": "3.10.11"
  }
 },
 "nbformat": 4,
 "nbformat_minor": 0
}
