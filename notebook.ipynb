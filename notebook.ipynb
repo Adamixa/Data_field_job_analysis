{
 "cells": [
  {
   "cell_type": "markdown",
   "metadata": {
    "id": "_L2xXhRgyHwC"
   },
   "source": [
    "# Adam:"
   ]
  },
  {
   "cell_type": "markdown",
   "source": [
    "## Data Loading and Initial Exploration:"
   ],
   "metadata": {
    "collapsed": false
   }
  },
  {
   "cell_type": "markdown",
   "source": [
    "### Importing pandas and loading the data:"
   ],
   "metadata": {
    "collapsed": false
   }
  },
  {
   "cell_type": "code",
   "execution_count": 1,
   "metadata": {
    "vscode": {
     "languageId": "plaintext"
    },
    "ExecuteTime": {
     "end_time": "2024-03-27T07:53:21.516826Z",
     "start_time": "2024-03-27T07:53:21.416525Z"
    }
   },
   "outputs": [],
   "source": [
    "import pandas as pd\n",
    "df = pd.read_csv('./jobs_in_data_2024.csv', sep = ',')"
   ]
  },
  {
   "cell_type": "markdown",
   "source": [
    "### Intial data exploaration :"
   ],
   "metadata": {
    "collapsed": false
   }
  },
  {
   "cell_type": "code",
   "outputs": [
    {
     "data": {
      "text/plain": "       work_year experience_level employment_type                 job_title  \\\n0           2024      Entry-level       Freelance    Applied Data Scientist   \n1           2024        Executive       Full-time     Business Intelligence   \n2           2024        Executive       Full-time     Business Intelligence   \n3           2024           Senior       Full-time            Data Architect   \n4           2024           Senior       Full-time            Data Architect   \n...          ...              ...             ...                       ...   \n14194       2021           Senior       Full-time           Data Specialist   \n14195       2020           Senior       Full-time            Data Scientist   \n14196       2021        Mid-level       Full-time  Principal Data Scientist   \n14197       2020      Entry-level       Full-time            Data Scientist   \n14198       2020      Entry-level        Contract     Business Data Analyst   \n\n       salary salary_currency  salary_in_usd employee_residence work_setting  \\\n0       30000             USD          30000     United Kingdom       Remote   \n1      230000             USD         230000      United States    In-person   \n2      176900             USD         176900      United States    In-person   \n3      171210             USD         171210             Canada    In-person   \n4       92190             USD          92190             Canada    In-person   \n...       ...             ...            ...                ...          ...   \n14194  165000             USD         165000      United States       Remote   \n14195  412000             USD         412000      United States       Remote   \n14196  151000             USD         151000      United States       Remote   \n14197  105000             USD         105000      United States       Remote   \n14198  100000             USD         100000      United States       Remote   \n\n      company_location company_size                    job_category  \n0       United Kingdom            M       Data Science and Research  \n1        United States            M            BI and Visualization  \n2        United States            M            BI and Visualization  \n3               Canada            M  Data Architecture and Modeling  \n4               Canada            M  Data Architecture and Modeling  \n...                ...          ...                             ...  \n14194    United States            L    Data Management and Strategy  \n14195    United States            L       Data Science and Research  \n14196    United States            L       Data Science and Research  \n14197    United States            S       Data Science and Research  \n14198    United States            L                   Data Analysis  \n\n[14199 rows x 12 columns]",
      "text/html": "<div>\n<style scoped>\n    .dataframe tbody tr th:only-of-type {\n        vertical-align: middle;\n    }\n\n    .dataframe tbody tr th {\n        vertical-align: top;\n    }\n\n    .dataframe thead th {\n        text-align: right;\n    }\n</style>\n<table border=\"1\" class=\"dataframe\">\n  <thead>\n    <tr style=\"text-align: right;\">\n      <th></th>\n      <th>work_year</th>\n      <th>experience_level</th>\n      <th>employment_type</th>\n      <th>job_title</th>\n      <th>salary</th>\n      <th>salary_currency</th>\n      <th>salary_in_usd</th>\n      <th>employee_residence</th>\n      <th>work_setting</th>\n      <th>company_location</th>\n      <th>company_size</th>\n      <th>job_category</th>\n    </tr>\n  </thead>\n  <tbody>\n    <tr>\n      <th>0</th>\n      <td>2024</td>\n      <td>Entry-level</td>\n      <td>Freelance</td>\n      <td>Applied Data Scientist</td>\n      <td>30000</td>\n      <td>USD</td>\n      <td>30000</td>\n      <td>United Kingdom</td>\n      <td>Remote</td>\n      <td>United Kingdom</td>\n      <td>M</td>\n      <td>Data Science and Research</td>\n    </tr>\n    <tr>\n      <th>1</th>\n      <td>2024</td>\n      <td>Executive</td>\n      <td>Full-time</td>\n      <td>Business Intelligence</td>\n      <td>230000</td>\n      <td>USD</td>\n      <td>230000</td>\n      <td>United States</td>\n      <td>In-person</td>\n      <td>United States</td>\n      <td>M</td>\n      <td>BI and Visualization</td>\n    </tr>\n    <tr>\n      <th>2</th>\n      <td>2024</td>\n      <td>Executive</td>\n      <td>Full-time</td>\n      <td>Business Intelligence</td>\n      <td>176900</td>\n      <td>USD</td>\n      <td>176900</td>\n      <td>United States</td>\n      <td>In-person</td>\n      <td>United States</td>\n      <td>M</td>\n      <td>BI and Visualization</td>\n    </tr>\n    <tr>\n      <th>3</th>\n      <td>2024</td>\n      <td>Senior</td>\n      <td>Full-time</td>\n      <td>Data Architect</td>\n      <td>171210</td>\n      <td>USD</td>\n      <td>171210</td>\n      <td>Canada</td>\n      <td>In-person</td>\n      <td>Canada</td>\n      <td>M</td>\n      <td>Data Architecture and Modeling</td>\n    </tr>\n    <tr>\n      <th>4</th>\n      <td>2024</td>\n      <td>Senior</td>\n      <td>Full-time</td>\n      <td>Data Architect</td>\n      <td>92190</td>\n      <td>USD</td>\n      <td>92190</td>\n      <td>Canada</td>\n      <td>In-person</td>\n      <td>Canada</td>\n      <td>M</td>\n      <td>Data Architecture and Modeling</td>\n    </tr>\n    <tr>\n      <th>...</th>\n      <td>...</td>\n      <td>...</td>\n      <td>...</td>\n      <td>...</td>\n      <td>...</td>\n      <td>...</td>\n      <td>...</td>\n      <td>...</td>\n      <td>...</td>\n      <td>...</td>\n      <td>...</td>\n      <td>...</td>\n    </tr>\n    <tr>\n      <th>14194</th>\n      <td>2021</td>\n      <td>Senior</td>\n      <td>Full-time</td>\n      <td>Data Specialist</td>\n      <td>165000</td>\n      <td>USD</td>\n      <td>165000</td>\n      <td>United States</td>\n      <td>Remote</td>\n      <td>United States</td>\n      <td>L</td>\n      <td>Data Management and Strategy</td>\n    </tr>\n    <tr>\n      <th>14195</th>\n      <td>2020</td>\n      <td>Senior</td>\n      <td>Full-time</td>\n      <td>Data Scientist</td>\n      <td>412000</td>\n      <td>USD</td>\n      <td>412000</td>\n      <td>United States</td>\n      <td>Remote</td>\n      <td>United States</td>\n      <td>L</td>\n      <td>Data Science and Research</td>\n    </tr>\n    <tr>\n      <th>14196</th>\n      <td>2021</td>\n      <td>Mid-level</td>\n      <td>Full-time</td>\n      <td>Principal Data Scientist</td>\n      <td>151000</td>\n      <td>USD</td>\n      <td>151000</td>\n      <td>United States</td>\n      <td>Remote</td>\n      <td>United States</td>\n      <td>L</td>\n      <td>Data Science and Research</td>\n    </tr>\n    <tr>\n      <th>14197</th>\n      <td>2020</td>\n      <td>Entry-level</td>\n      <td>Full-time</td>\n      <td>Data Scientist</td>\n      <td>105000</td>\n      <td>USD</td>\n      <td>105000</td>\n      <td>United States</td>\n      <td>Remote</td>\n      <td>United States</td>\n      <td>S</td>\n      <td>Data Science and Research</td>\n    </tr>\n    <tr>\n      <th>14198</th>\n      <td>2020</td>\n      <td>Entry-level</td>\n      <td>Contract</td>\n      <td>Business Data Analyst</td>\n      <td>100000</td>\n      <td>USD</td>\n      <td>100000</td>\n      <td>United States</td>\n      <td>Remote</td>\n      <td>United States</td>\n      <td>L</td>\n      <td>Data Analysis</td>\n    </tr>\n  </tbody>\n</table>\n<p>14199 rows × 12 columns</p>\n</div>"
     },
     "execution_count": 2,
     "metadata": {},
     "output_type": "execute_result"
    }
   ],
   "source": [
    "df"
   ],
   "metadata": {
    "collapsed": false,
    "ExecuteTime": {
     "end_time": "2024-03-27T07:53:21.559610Z",
     "start_time": "2024-03-27T07:53:21.519954Z"
    }
   },
   "execution_count": 2
  },
  {
   "cell_type": "code",
   "outputs": [
    {
     "data": {
      "text/plain": "          work_year         salary  salary_in_usd\ncount  14199.000000   14199.000000    14199.00000\nmean    2023.110501  149057.514262   149472.04944\nstd        0.686929   64932.044143    64379.26016\nmin     2020.000000   14000.000000    15000.00000\n25%     2023.000000  102150.000000   104000.00000\n50%     2023.000000  142000.000000   142000.00000\n75%     2024.000000  185900.000000   185900.00000\nmax     2024.000000  450000.000000   450000.00000",
      "text/html": "<div>\n<style scoped>\n    .dataframe tbody tr th:only-of-type {\n        vertical-align: middle;\n    }\n\n    .dataframe tbody tr th {\n        vertical-align: top;\n    }\n\n    .dataframe thead th {\n        text-align: right;\n    }\n</style>\n<table border=\"1\" class=\"dataframe\">\n  <thead>\n    <tr style=\"text-align: right;\">\n      <th></th>\n      <th>work_year</th>\n      <th>salary</th>\n      <th>salary_in_usd</th>\n    </tr>\n  </thead>\n  <tbody>\n    <tr>\n      <th>count</th>\n      <td>14199.000000</td>\n      <td>14199.000000</td>\n      <td>14199.00000</td>\n    </tr>\n    <tr>\n      <th>mean</th>\n      <td>2023.110501</td>\n      <td>149057.514262</td>\n      <td>149472.04944</td>\n    </tr>\n    <tr>\n      <th>std</th>\n      <td>0.686929</td>\n      <td>64932.044143</td>\n      <td>64379.26016</td>\n    </tr>\n    <tr>\n      <th>min</th>\n      <td>2020.000000</td>\n      <td>14000.000000</td>\n      <td>15000.00000</td>\n    </tr>\n    <tr>\n      <th>25%</th>\n      <td>2023.000000</td>\n      <td>102150.000000</td>\n      <td>104000.00000</td>\n    </tr>\n    <tr>\n      <th>50%</th>\n      <td>2023.000000</td>\n      <td>142000.000000</td>\n      <td>142000.00000</td>\n    </tr>\n    <tr>\n      <th>75%</th>\n      <td>2024.000000</td>\n      <td>185900.000000</td>\n      <td>185900.00000</td>\n    </tr>\n    <tr>\n      <th>max</th>\n      <td>2024.000000</td>\n      <td>450000.000000</td>\n      <td>450000.00000</td>\n    </tr>\n  </tbody>\n</table>\n</div>"
     },
     "execution_count": 3,
     "metadata": {},
     "output_type": "execute_result"
    }
   ],
   "source": [
    "df.describe()"
   ],
   "metadata": {
    "collapsed": false,
    "ExecuteTime": {
     "end_time": "2024-03-27T07:53:21.594011Z",
     "start_time": "2024-03-27T07:53:21.565954Z"
    }
   },
   "execution_count": 3
  },
  {
   "cell_type": "code",
   "outputs": [
    {
     "data": {
      "text/plain": "   work_year experience_level employment_type               job_title  salary  \\\n0       2024      Entry-level       Freelance  Applied Data Scientist   30000   \n1       2024        Executive       Full-time   Business Intelligence  230000   \n2       2024        Executive       Full-time   Business Intelligence  176900   \n3       2024           Senior       Full-time          Data Architect  171210   \n4       2024           Senior       Full-time          Data Architect   92190   \n\n  salary_currency  salary_in_usd employee_residence work_setting  \\\n0             USD          30000     United Kingdom       Remote   \n1             USD         230000      United States    In-person   \n2             USD         176900      United States    In-person   \n3             USD         171210             Canada    In-person   \n4             USD          92190             Canada    In-person   \n\n  company_location company_size                    job_category  \n0   United Kingdom            M       Data Science and Research  \n1    United States            M            BI and Visualization  \n2    United States            M            BI and Visualization  \n3           Canada            M  Data Architecture and Modeling  \n4           Canada            M  Data Architecture and Modeling  ",
      "text/html": "<div>\n<style scoped>\n    .dataframe tbody tr th:only-of-type {\n        vertical-align: middle;\n    }\n\n    .dataframe tbody tr th {\n        vertical-align: top;\n    }\n\n    .dataframe thead th {\n        text-align: right;\n    }\n</style>\n<table border=\"1\" class=\"dataframe\">\n  <thead>\n    <tr style=\"text-align: right;\">\n      <th></th>\n      <th>work_year</th>\n      <th>experience_level</th>\n      <th>employment_type</th>\n      <th>job_title</th>\n      <th>salary</th>\n      <th>salary_currency</th>\n      <th>salary_in_usd</th>\n      <th>employee_residence</th>\n      <th>work_setting</th>\n      <th>company_location</th>\n      <th>company_size</th>\n      <th>job_category</th>\n    </tr>\n  </thead>\n  <tbody>\n    <tr>\n      <th>0</th>\n      <td>2024</td>\n      <td>Entry-level</td>\n      <td>Freelance</td>\n      <td>Applied Data Scientist</td>\n      <td>30000</td>\n      <td>USD</td>\n      <td>30000</td>\n      <td>United Kingdom</td>\n      <td>Remote</td>\n      <td>United Kingdom</td>\n      <td>M</td>\n      <td>Data Science and Research</td>\n    </tr>\n    <tr>\n      <th>1</th>\n      <td>2024</td>\n      <td>Executive</td>\n      <td>Full-time</td>\n      <td>Business Intelligence</td>\n      <td>230000</td>\n      <td>USD</td>\n      <td>230000</td>\n      <td>United States</td>\n      <td>In-person</td>\n      <td>United States</td>\n      <td>M</td>\n      <td>BI and Visualization</td>\n    </tr>\n    <tr>\n      <th>2</th>\n      <td>2024</td>\n      <td>Executive</td>\n      <td>Full-time</td>\n      <td>Business Intelligence</td>\n      <td>176900</td>\n      <td>USD</td>\n      <td>176900</td>\n      <td>United States</td>\n      <td>In-person</td>\n      <td>United States</td>\n      <td>M</td>\n      <td>BI and Visualization</td>\n    </tr>\n    <tr>\n      <th>3</th>\n      <td>2024</td>\n      <td>Senior</td>\n      <td>Full-time</td>\n      <td>Data Architect</td>\n      <td>171210</td>\n      <td>USD</td>\n      <td>171210</td>\n      <td>Canada</td>\n      <td>In-person</td>\n      <td>Canada</td>\n      <td>M</td>\n      <td>Data Architecture and Modeling</td>\n    </tr>\n    <tr>\n      <th>4</th>\n      <td>2024</td>\n      <td>Senior</td>\n      <td>Full-time</td>\n      <td>Data Architect</td>\n      <td>92190</td>\n      <td>USD</td>\n      <td>92190</td>\n      <td>Canada</td>\n      <td>In-person</td>\n      <td>Canada</td>\n      <td>M</td>\n      <td>Data Architecture and Modeling</td>\n    </tr>\n  </tbody>\n</table>\n</div>"
     },
     "execution_count": 4,
     "metadata": {},
     "output_type": "execute_result"
    }
   ],
   "source": [
    "df.head()"
   ],
   "metadata": {
    "collapsed": false,
    "ExecuteTime": {
     "end_time": "2024-03-27T07:53:21.616800Z",
     "start_time": "2024-03-27T07:53:21.596699Z"
    }
   },
   "execution_count": 4
  },
  {
   "cell_type": "code",
   "outputs": [
    {
     "data": {
      "text/plain": "       work_year experience_level employment_type        job_title  salary  \\\n12881       2022           Senior       Full-time   Data Scientist  140700   \n5921        2023           Senior       Full-time  Data Strategist  119636   \n7408        2023        Mid-level       Full-time     Data Manager   73500   \n5368        2023           Senior       Full-time     Head of Data  226500   \n12083       2023           Senior       Full-time     BI Developer  110000   \n\n      salary_currency  salary_in_usd employee_residence work_setting  \\\n12881             USD         140700      United States    In-person   \n5921              USD         119636      United States       Remote   \n7408              USD          73500      United States    In-person   \n5368              USD         226500      United States       Remote   \n12083             USD         110000      United States       Remote   \n\n      company_location company_size                    job_category  \n12881    United States            M       Data Science and Research  \n5921     United States            M  Data Architecture and Modeling  \n7408     United States            M       Leadership and Management  \n5368     United States            M       Leadership and Management  \n12083    United States            M            BI and Visualization  ",
      "text/html": "<div>\n<style scoped>\n    .dataframe tbody tr th:only-of-type {\n        vertical-align: middle;\n    }\n\n    .dataframe tbody tr th {\n        vertical-align: top;\n    }\n\n    .dataframe thead th {\n        text-align: right;\n    }\n</style>\n<table border=\"1\" class=\"dataframe\">\n  <thead>\n    <tr style=\"text-align: right;\">\n      <th></th>\n      <th>work_year</th>\n      <th>experience_level</th>\n      <th>employment_type</th>\n      <th>job_title</th>\n      <th>salary</th>\n      <th>salary_currency</th>\n      <th>salary_in_usd</th>\n      <th>employee_residence</th>\n      <th>work_setting</th>\n      <th>company_location</th>\n      <th>company_size</th>\n      <th>job_category</th>\n    </tr>\n  </thead>\n  <tbody>\n    <tr>\n      <th>12881</th>\n      <td>2022</td>\n      <td>Senior</td>\n      <td>Full-time</td>\n      <td>Data Scientist</td>\n      <td>140700</td>\n      <td>USD</td>\n      <td>140700</td>\n      <td>United States</td>\n      <td>In-person</td>\n      <td>United States</td>\n      <td>M</td>\n      <td>Data Science and Research</td>\n    </tr>\n    <tr>\n      <th>5921</th>\n      <td>2023</td>\n      <td>Senior</td>\n      <td>Full-time</td>\n      <td>Data Strategist</td>\n      <td>119636</td>\n      <td>USD</td>\n      <td>119636</td>\n      <td>United States</td>\n      <td>Remote</td>\n      <td>United States</td>\n      <td>M</td>\n      <td>Data Architecture and Modeling</td>\n    </tr>\n    <tr>\n      <th>7408</th>\n      <td>2023</td>\n      <td>Mid-level</td>\n      <td>Full-time</td>\n      <td>Data Manager</td>\n      <td>73500</td>\n      <td>USD</td>\n      <td>73500</td>\n      <td>United States</td>\n      <td>In-person</td>\n      <td>United States</td>\n      <td>M</td>\n      <td>Leadership and Management</td>\n    </tr>\n    <tr>\n      <th>5368</th>\n      <td>2023</td>\n      <td>Senior</td>\n      <td>Full-time</td>\n      <td>Head of Data</td>\n      <td>226500</td>\n      <td>USD</td>\n      <td>226500</td>\n      <td>United States</td>\n      <td>Remote</td>\n      <td>United States</td>\n      <td>M</td>\n      <td>Leadership and Management</td>\n    </tr>\n    <tr>\n      <th>12083</th>\n      <td>2023</td>\n      <td>Senior</td>\n      <td>Full-time</td>\n      <td>BI Developer</td>\n      <td>110000</td>\n      <td>USD</td>\n      <td>110000</td>\n      <td>United States</td>\n      <td>Remote</td>\n      <td>United States</td>\n      <td>M</td>\n      <td>BI and Visualization</td>\n    </tr>\n  </tbody>\n</table>\n</div>"
     },
     "execution_count": 5,
     "metadata": {},
     "output_type": "execute_result"
    }
   ],
   "source": [
    "df.sample(5)"
   ],
   "metadata": {
    "collapsed": false,
    "ExecuteTime": {
     "end_time": "2024-03-27T07:53:21.657223Z",
     "start_time": "2024-03-27T07:53:21.619816Z"
    }
   },
   "execution_count": 5
  },
  {
   "cell_type": "code",
   "outputs": [
    {
     "name": "stdout",
     "output_type": "stream",
     "text": [
      "<class 'pandas.core.frame.DataFrame'>\n",
      "RangeIndex: 14199 entries, 0 to 14198\n",
      "Data columns (total 12 columns):\n",
      " #   Column              Non-Null Count  Dtype \n",
      "---  ------              --------------  ----- \n",
      " 0   work_year           14199 non-null  int64 \n",
      " 1   experience_level    14199 non-null  object\n",
      " 2   employment_type     14199 non-null  object\n",
      " 3   job_title           14199 non-null  object\n",
      " 4   salary              14199 non-null  int64 \n",
      " 5   salary_currency     14199 non-null  object\n",
      " 6   salary_in_usd       14199 non-null  int64 \n",
      " 7   employee_residence  14199 non-null  object\n",
      " 8   work_setting        14199 non-null  object\n",
      " 9   company_location    14199 non-null  object\n",
      " 10  company_size        14199 non-null  object\n",
      " 11  job_category        14199 non-null  object\n",
      "dtypes: int64(3), object(9)\n",
      "memory usage: 1.3+ MB\n"
     ]
    }
   ],
   "source": [
    "df.info()"
   ],
   "metadata": {
    "collapsed": false,
    "ExecuteTime": {
     "end_time": "2024-03-27T07:53:21.693886Z",
     "start_time": "2024-03-27T07:53:21.660239Z"
    }
   },
   "execution_count": 6
  },
  {
   "cell_type": "markdown",
   "source": [
    "## Data Cleaning:"
   ],
   "metadata": {
    "collapsed": false
   }
  },
  {
   "cell_type": "markdown",
   "source": [
    "### Checking for null values:"
   ],
   "metadata": {
    "collapsed": false
   }
  },
  {
   "cell_type": "code",
   "outputs": [
    {
     "name": "stdout",
     "output_type": "stream",
     "text": [
      "Number of NaN values: 0\n"
     ]
    }
   ],
   "source": [
    "nan_count = df.isnull().sum().sum()\n",
    "print('Number of NaN values:', nan_count)"
   ],
   "metadata": {
    "collapsed": false,
    "ExecuteTime": {
     "end_time": "2024-03-27T07:53:21.709240Z",
     "start_time": "2024-03-27T07:53:21.696270Z"
    }
   },
   "execution_count": 7
  },
  {
   "cell_type": "markdown",
   "source": [
    "### Checking for duplicates:"
   ],
   "metadata": {
    "collapsed": false
   }
  },
  {
   "cell_type": "code",
   "outputs": [
    {
     "name": "stdout",
     "output_type": "stream",
     "text": [
      "Number of duplicate rows: 5493\n"
     ]
    }
   ],
   "source": [
    "duplicate_rows = df.duplicated().sum()\n",
    "\n",
    "print('Number of duplicate rows:',duplicate_rows)"
   ],
   "metadata": {
    "collapsed": false,
    "ExecuteTime": {
     "end_time": "2024-03-27T07:54:16.509987Z",
     "start_time": "2024-03-27T07:54:16.477085Z"
    }
   },
   "execution_count": 10
  },
  {
   "cell_type": "markdown",
   "source": [
    "### Checking which categorical coloumns need to be addressed:"
   ],
   "metadata": {
    "collapsed": false
   }
  },
  {
   "cell_type": "code",
   "outputs": [
    {
     "name": "stdout",
     "output_type": "stream",
     "text": [
      "<class 'pandas.core.frame.DataFrame'>\n",
      "RangeIndex: 14199 entries, 0 to 14198\n",
      "Data columns (total 12 columns):\n",
      " #   Column              Non-Null Count  Dtype \n",
      "---  ------              --------------  ----- \n",
      " 0   work_year           14199 non-null  int64 \n",
      " 1   experience_level    14199 non-null  object\n",
      " 2   employment_type     14199 non-null  object\n",
      " 3   job_title           14199 non-null  object\n",
      " 4   salary              14199 non-null  int64 \n",
      " 5   salary_currency     14199 non-null  object\n",
      " 6   salary_in_usd       14199 non-null  int64 \n",
      " 7   employee_residence  14199 non-null  object\n",
      " 8   work_setting        14199 non-null  object\n",
      " 9   company_location    14199 non-null  object\n",
      " 10  company_size        14199 non-null  object\n",
      " 11  job_category        14199 non-null  object\n",
      "dtypes: int64(3), object(9)\n",
      "memory usage: 1.3+ MB\n"
     ]
    }
   ],
   "source": [
    "df.info()"
   ],
   "metadata": {
    "collapsed": false,
    "ExecuteTime": {
     "end_time": "2024-03-27T07:53:21.768368Z",
     "start_time": "2024-03-27T07:53:21.747252Z"
    }
   },
   "execution_count": 9
  },
  {
   "cell_type": "markdown",
   "source": [
    "### Dealing with duplicates:"
   ],
   "metadata": {
    "collapsed": false
   }
  },
  {
   "cell_type": "code",
   "outputs": [],
   "source": [],
   "metadata": {
    "collapsed": false,
    "ExecuteTime": {
     "end_time": "2024-03-27T07:53:21.776344Z",
     "start_time": "2024-03-27T07:53:21.771386Z"
    }
   },
   "execution_count": 9
  },
  {
   "cell_type": "markdown",
   "source": [
    "### Dealing with categorical coloumns:"
   ],
   "metadata": {
    "collapsed": false
   }
  },
  {
   "cell_type": "code",
   "outputs": [],
   "source": [],
   "metadata": {
    "collapsed": false
   }
  },
  {
   "cell_type": "markdown",
   "source": [
    "## testing plots:"
   ],
   "metadata": {
    "collapsed": false
   }
  },
  {
   "cell_type": "code",
   "outputs": [
    {
     "data": {
      "text/plain": "<Figure size 640x480 with 1 Axes>",
      "image/png": "[encoded data removed]"
     },
     "metadata": {},
     "output_type": "display_data"
    }
   ],
   "source": [
    "import matplotlib.pyplot as  plt\n",
    "df.experience_level.str.get_dummies(sep = \",\").sum().plot.pie();"
   ],
   "metadata": {
    "collapsed": false,
    "ExecuteTime": {
     "end_time": "2024-03-27T08:01:39.770156Z",
     "start_time": "2024-03-27T08:01:39.544906Z"
    }
   },
   "execution_count": 18
  },
  {
   "cell_type": "code",
   "outputs": [
    {
     "data": {
      "text/plain": "<Axes: ylabel='Frequency'>"
     },
     "execution_count": 19,
     "metadata": {},
     "output_type": "execute_result"
    },
    {
     "data": {
      "text/plain": "<Figure size 640x480 with 1 Axes>",
      "image/png": "[encoded data removed]"
     },
     "metadata": {},
     "output_type": "display_data"
    }
   ],
   "source": [
    "df[\"salary_in_usd\"].plot(kind = 'hist')"
   ],
   "metadata": {
    "collapsed": false,
    "ExecuteTime": {
     "end_time": "2024-03-27T08:10:34.853006Z",
     "start_time": "2024-03-27T08:10:34.389257Z"
    }
   },
   "execution_count": 19
  },
  {
   "cell_type": "code",
   "outputs": [
    {
     "data": {
      "text/plain": "<Axes: ylabel='Frequency'>"
     },
     "execution_count": 26,
     "metadata": {},
     "output_type": "execute_result"
    },
    {
     "data": {
      "text/plain": "<Figure size 640x480 with 1 Axes>",
      "image/png": "[encoded data removed]"
     },
     "metadata": {},
     "output_type": "display_data"
    }
   ],
   "source": [
    "df[\"work_year\"].plot(kind = 'hist')"
   ],
   "metadata": {
    "collapsed": false,
    "ExecuteTime": {
     "end_time": "2024-03-27T08:13:38.270919Z",
     "start_time": "2024-03-27T08:13:37.693807Z"
    }
   },
   "execution_count": 26
  },
  {
   "cell_type": "markdown",
   "metadata": {},
   "source": [
    "# Moudi:"
   ]
  },
  {
   "cell_type": "code",
   "execution_count": 9,
   "metadata": {
    "vscode": {
     "languageId": "plaintext"
    },
    "ExecuteTime": {
     "end_time": "2024-03-27T07:53:21.784089Z",
     "start_time": "2024-03-27T07:53:21.779359Z"
    }
   },
   "outputs": [],
   "source": []
  }
 ],
 "metadata": {
  "colab": {
   "provenance": [
    {
     "file_id": "1ZJWOd85V8cvQ-UqNcOlynORTpfiXNdnH",
     "timestamp": 1711270293157
    }
   ]
  },
  "kernelspec": {
   "display_name": "Python 3 (ipykernel)",
   "language": "python",
   "name": "python3"
  },
  "language_info": {
   "codemirror_mode": {
    "name": "ipython",
    "version": 3
   },
   "file_extension": ".py",
   "mimetype": "text/x-python",
   "name": "python",
   "nbconvert_exporter": "python",
   "pygments_lexer": "ipython3",
   "version": "3.10.11"
  }
 },
 "nbformat": 4,
 "nbformat_minor": 0
}
